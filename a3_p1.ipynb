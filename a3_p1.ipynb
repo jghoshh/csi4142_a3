{
 "cells": [
  {
   "cell_type": "markdown",
   "metadata": {},
   "source": [
    "## **CSI4142 - A3: Part 1**"
   ]
  },
  {
   "cell_type": "markdown",
   "metadata": {},
   "source": [
    "**Group:** 9\n",
    "\n",
    "**Members:** \n",
    "- Jay Ghosh (300243766) \n",
    "- Alexander Azizi-Martin (300236257)"
   ]
  },
  {
   "cell_type": "markdown",
   "metadata": {},
   "source": [
    "**Introduction**"
   ]
  },
  {
   "cell_type": "markdown",
   "metadata": {},
   "source": [
    "### **Dataset Description**"
   ]
  },
  {
   "cell_type": "markdown",
   "metadata": {},
   "source": [
    "**Dataset Name:** CAR DETAILS FROM CAR DEKHO [1]\n",
    "\n",
    "**Dataset Author:** Nehal Birla, Nishant Verma, Nikhil Kushwaha [1]\n",
    "\n",
    "**Purpose:** The dataset was built for a pedagogical purpose: to exemplify the use of linear regression in machine learning. [1]"
   ]
  },
  {
   "cell_type": "code",
   "execution_count": 236,
   "metadata": {},
   "outputs": [],
   "source": [
    "import kagglehub\n",
    "import numpy as np\n",
    "import pandas as pd\n",
    "import matplotlib.pyplot as plt\n",
    "import seaborn as sns\n",
    "from sklearn.neighbors import LocalOutlierFactor\n",
    "from sklearn.preprocessing import StandardScaler\n",
    "from sklearn.model_selection import train_test_split\n",
    "from sklearn.linear_model import LinearRegression, Lasso\n",
    "from sklearn.model_selection import cross_val_score\n",
    "from sklearn.metrics import make_scorer, mean_squared_error, r2_score\n",
    "from sklearn.pipeline import make_pipeline"
   ]
  },
  {
   "cell_type": "code",
   "execution_count": 237,
   "metadata": {},
   "outputs": [
    {
     "name": "stdout",
     "output_type": "stream",
     "text": [
      "Warning: Looks like you're using an outdated `kagglehub` version (installed: 0.3.9), please consider upgrading to the latest version (0.3.10).\n"
     ]
    },
    {
     "data": {
      "text/html": [
       "<div>\n",
       "<style scoped>\n",
       "    .dataframe tbody tr th:only-of-type {\n",
       "        vertical-align: middle;\n",
       "    }\n",
       "\n",
       "    .dataframe tbody tr th {\n",
       "        vertical-align: top;\n",
       "    }\n",
       "\n",
       "    .dataframe thead th {\n",
       "        text-align: right;\n",
       "    }\n",
       "</style>\n",
       "<table border=\"1\" class=\"dataframe\">\n",
       "  <thead>\n",
       "    <tr style=\"text-align: right;\">\n",
       "      <th></th>\n",
       "      <th>name</th>\n",
       "      <th>year</th>\n",
       "      <th>selling_price</th>\n",
       "      <th>km_driven</th>\n",
       "      <th>fuel</th>\n",
       "      <th>seller_type</th>\n",
       "      <th>transmission</th>\n",
       "      <th>owner</th>\n",
       "    </tr>\n",
       "  </thead>\n",
       "  <tbody>\n",
       "    <tr>\n",
       "      <th>0</th>\n",
       "      <td>Maruti 800 AC</td>\n",
       "      <td>2007</td>\n",
       "      <td>60000</td>\n",
       "      <td>70000</td>\n",
       "      <td>Petrol</td>\n",
       "      <td>Individual</td>\n",
       "      <td>Manual</td>\n",
       "      <td>First Owner</td>\n",
       "    </tr>\n",
       "    <tr>\n",
       "      <th>1</th>\n",
       "      <td>Maruti Wagon R LXI Minor</td>\n",
       "      <td>2007</td>\n",
       "      <td>135000</td>\n",
       "      <td>50000</td>\n",
       "      <td>Petrol</td>\n",
       "      <td>Individual</td>\n",
       "      <td>Manual</td>\n",
       "      <td>First Owner</td>\n",
       "    </tr>\n",
       "    <tr>\n",
       "      <th>2</th>\n",
       "      <td>Hyundai Verna 1.6 SX</td>\n",
       "      <td>2012</td>\n",
       "      <td>600000</td>\n",
       "      <td>100000</td>\n",
       "      <td>Diesel</td>\n",
       "      <td>Individual</td>\n",
       "      <td>Manual</td>\n",
       "      <td>First Owner</td>\n",
       "    </tr>\n",
       "    <tr>\n",
       "      <th>3</th>\n",
       "      <td>Datsun RediGO T Option</td>\n",
       "      <td>2017</td>\n",
       "      <td>250000</td>\n",
       "      <td>46000</td>\n",
       "      <td>Petrol</td>\n",
       "      <td>Individual</td>\n",
       "      <td>Manual</td>\n",
       "      <td>First Owner</td>\n",
       "    </tr>\n",
       "    <tr>\n",
       "      <th>4</th>\n",
       "      <td>Honda Amaze VX i-DTEC</td>\n",
       "      <td>2014</td>\n",
       "      <td>450000</td>\n",
       "      <td>141000</td>\n",
       "      <td>Diesel</td>\n",
       "      <td>Individual</td>\n",
       "      <td>Manual</td>\n",
       "      <td>Second Owner</td>\n",
       "    </tr>\n",
       "  </tbody>\n",
       "</table>\n",
       "</div>"
      ],
      "text/plain": [
       "                       name  year  selling_price  km_driven    fuel  \\\n",
       "0             Maruti 800 AC  2007          60000      70000  Petrol   \n",
       "1  Maruti Wagon R LXI Minor  2007         135000      50000  Petrol   \n",
       "2      Hyundai Verna 1.6 SX  2012         600000     100000  Diesel   \n",
       "3    Datsun RediGO T Option  2017         250000      46000  Petrol   \n",
       "4     Honda Amaze VX i-DTEC  2014         450000     141000  Diesel   \n",
       "\n",
       "  seller_type transmission         owner  \n",
       "0  Individual       Manual   First Owner  \n",
       "1  Individual       Manual   First Owner  \n",
       "2  Individual       Manual   First Owner  \n",
       "3  Individual       Manual   First Owner  \n",
       "4  Individual       Manual  Second Owner  "
      ]
     },
     "execution_count": 237,
     "metadata": {},
     "output_type": "execute_result"
    }
   ],
   "source": [
    "# Loading dataset\n",
    "df_path = kagglehub.dataset_download(\"nehalbirla/vehicle-dataset-from-cardekho\")\n",
    "df = pd.read_csv(f\"{df_path}/CAR DETAILS FROM CAR DEKHO.csv\")\n",
    "df.head()"
   ]
  },
  {
   "cell_type": "markdown",
   "metadata": {},
   "source": [
    "**Dataset Shape**"
   ]
  },
  {
   "cell_type": "code",
   "execution_count": 238,
   "metadata": {},
   "outputs": [
    {
     "data": {
      "text/plain": [
       "(4340, 8)"
      ]
     },
     "execution_count": 238,
     "metadata": {},
     "output_type": "execute_result"
    }
   ],
   "source": [
    "df.shape"
   ]
  },
  {
   "cell_type": "markdown",
   "metadata": {},
   "source": [
    "The dataset has 4340 rows and 8 columns."
   ]
  },
  {
   "cell_type": "markdown",
   "metadata": {},
   "source": [
    "**Features of the dataset (and what they mean)**"
   ]
  },
  {
   "cell_type": "code",
   "execution_count": 239,
   "metadata": {},
   "outputs": [
    {
     "name": "stdout",
     "output_type": "stream",
     "text": [
      "<class 'pandas.core.frame.DataFrame'>\n",
      "RangeIndex: 4340 entries, 0 to 4339\n",
      "Data columns (total 8 columns):\n",
      " #   Column         Non-Null Count  Dtype \n",
      "---  ------         --------------  ----- \n",
      " 0   name           4340 non-null   object\n",
      " 1   year           4340 non-null   int64 \n",
      " 2   selling_price  4340 non-null   int64 \n",
      " 3   km_driven      4340 non-null   int64 \n",
      " 4   fuel           4340 non-null   object\n",
      " 5   seller_type    4340 non-null   object\n",
      " 6   transmission   4340 non-null   object\n",
      " 7   owner          4340 non-null   object\n",
      "dtypes: int64(3), object(5)\n",
      "memory usage: 271.4+ KB\n"
     ]
    }
   ],
   "source": [
    "df.info()"
   ]
  },
  {
   "cell_type": "markdown",
   "metadata": {},
   "source": [
    "**Features:**\n",
    "\n",
    "**name**:\n",
    "- Type: Categorical\n",
    "- Purpose: Represents the model or make of a car.\n",
    "\n",
    "**year:**\n",
    "- Type: Numerical\n",
    "- Purpose: Year of manufacture of the car.\n",
    "\n",
    "**selling_price**:\n",
    "- Type: Numerical\n",
    "- Purpose: Price at which the car is sold. **The target variable for regression.**\n",
    "\n",
    "**km_driven**\n",
    "- Type: Numerical\n",
    "- Purpose: Kilometers driven by the vehicle, impacting its depreciation.\n",
    "\n",
    "**fuel**\n",
    "- Type: Categorical\n",
    "- Purpose: Type of fuel used, e.g. petrol, diesel.\n",
    "\n",
    "**seller_type**\n",
    "- Type: Categorical\n",
    "- Purpose: Indicates the type of seller, e.g. individual or dealer.\n",
    "\n",
    "**transmission**\n",
    "- Type: Categorical\n",
    "- Purpose: Indicates vehicle transmission type, e.g. automatic or manual.\n",
    "\n",
    "**owner**\n",
    "- Type: Categorical\n",
    "- Purpose: Number of previous owners, indicating vehicle usage and condition history.\n"
   ]
  },
  {
   "cell_type": "markdown",
   "metadata": {},
   "source": [
    "### **Section A: Validating and Cleaning**"
   ]
  },
  {
   "cell_type": "markdown",
   "metadata": {},
   "source": [
    "#### **Check 1: Data Type**"
   ]
  },
  {
   "cell_type": "code",
   "execution_count": 240,
   "metadata": {},
   "outputs": [
    {
     "name": "stdout",
     "output_type": "stream",
     "text": [
      "Report on Data Type Check for 'year' (numeric)\n",
      "No data type errors found in column 'year'.\n",
      "Report on Data Type Check for 'selling_price' (numeric)\n",
      "No data type errors found in column 'selling_price'.\n",
      "Report on Data Type Check for 'km_driven' (numeric)\n",
      "No data type errors found in column 'km_driven'.\n",
      "Report on Data Type Check for 'name' (string)\n",
      "No data type errors found in column 'name'.\n",
      "Report on Data Type Check for 'fuel' (string)\n",
      "No data type errors found in column 'fuel'.\n",
      "Report on Data Type Check for 'seller_type' (string)\n",
      "No data type errors found in column 'seller_type'.\n",
      "Report on Data Type Check for 'transmission' (string)\n",
      "No data type errors found in column 'transmission'.\n",
      "Report on Data Type Check for 'owner' (string)\n",
      "No data type errors found in column 'owner'.\n"
     ]
    }
   ],
   "source": [
    "# Define columns with explicitly expected datatypes\n",
    "expected_dtypes = {\n",
    "    \"year\": \"numeric\",\n",
    "    \"selling_price\": \"numeric\",\n",
    "    \"km_driven\": \"numeric\",\n",
    "    \"name\": \"string\",\n",
    "    \"fuel\": \"string\",\n",
    "    \"seller_type\": \"string\",\n",
    "    \"transmission\": \"string\",\n",
    "    \"owner\": \"string\"\n",
    "}\n",
    "\n",
    "# Checker Code\n",
    "errors = {}\n",
    "for col, expected_type in expected_dtypes.items():\n",
    "  if expected_type == \"numeric\":\n",
    "    parsed_col = pd.to_numeric(df[col], errors=\"coerce\")\n",
    "    failed_mask = parsed_col.isna() & df[col].notna()\n",
    "  elif expected_type == \"string\":\n",
    "    failed_mask = ~df[col].apply(lambda x: isinstance(x, str))\n",
    "  errors[col] = df.loc[failed_mask]\n",
    "  \n",
    "# Results\n",
    "for col, errors_df in errors.items():\n",
    "  type_to_check = expected_dtypes[col]\n",
    "  print(f\"Report on Data Type Check for '{col}' ({type_to_check})\")\n",
    "  if errors_df.empty:\n",
    "    print(f\"No data type errors found in column '{col}'.\")\n",
    "  else:\n",
    "    print(f\"{len(errors_df)} rows have invalid {type_to_check} values in '{col}'.\")\n",
    "    print(\"Examples of invalid rows:\")\n",
    "    display(errors_df.head(10))"
   ]
  },
  {
   "cell_type": "markdown",
   "metadata": {},
   "source": [
    "No data type errors, so no cleaning required here."
   ]
  },
  {
   "cell_type": "markdown",
   "metadata": {},
   "source": [
    "#### **Check 2: Range Check**"
   ]
  },
  {
   "cell_type": "code",
   "execution_count": 241,
   "metadata": {},
   "outputs": [
    {
     "name": "stdout",
     "output_type": "stream",
     "text": [
      "Report on Range Check for 'year' (Range: (1900, 2025))\n",
      "No range errors found in column 'year'.\n",
      "Report on Range Check for 'selling_price' (Range: (1, 10000000.0))\n",
      "No range errors found in column 'selling_price'.\n",
      "Report on Range Check for 'km_driven' (Range: (0, 1000000.0))\n",
      "No range errors found in column 'km_driven'.\n"
     ]
    }
   ],
   "source": [
    "# Define ranges for numeric columns\n",
    "ranges = {\n",
    "    \"year\": (1900, 2025),\n",
    "    \"selling_price\": (1, 1e7),\n",
    "    \"km_driven\": (0, 1e6)\n",
    "}\n",
    "\n",
    "# Checker Code\n",
    "range_errors = {}\n",
    "for col, (min_val, max_val) in ranges.items():\n",
    "    out_of_range_mask = (df[col] < min_val) | (df[col] > max_val)\n",
    "    range_errors[col] = df.loc[out_of_range_mask]\n",
    "\n",
    "# Results\n",
    "for col, error_df in range_errors.items():\n",
    "    print(f\"Report on Range Check for '{col}' (Range: {ranges[col]})\")\n",
    "    if error_df.empty:\n",
    "        print(f\"No range errors found in column '{col}'.\")\n",
    "    else:\n",
    "        print(f\"{len(error_df)} range errors found in column '{col}'.\")\n",
    "        print(\"Examples of out-of-range rows:\")\n",
    "        display(error_df.head(10))"
   ]
  },
  {
   "cell_type": "markdown",
   "metadata": {},
   "source": [
    "No range errors, so no cleaning required here."
   ]
  },
  {
   "cell_type": "markdown",
   "metadata": {},
   "source": [
    "#### **Check 3: Format Check**"
   ]
  },
  {
   "cell_type": "code",
   "execution_count": 242,
   "metadata": {},
   "outputs": [
    {
     "name": "stdout",
     "output_type": "stream",
     "text": [
      "Report on Format Check for 'year' (Pattern: '^\\d{4}$')\n",
      "No format errors found in column 'year'.\n"
     ]
    }
   ],
   "source": [
    "# Define format rules as regex patterns for relevant columns\n",
    "format_rules = {\n",
    "    \"year\": r\"^\\d{4}$\",  # 4 digits\n",
    "}\n",
    "\n",
    "# Checker Code\n",
    "format_errors = {}\n",
    "for col, pattern in format_rules.items():\n",
    "    failed_mask = ~df[col].astype(str).str.match(pattern)\n",
    "    format_errors[col] = df.loc[failed_mask]\n",
    "\n",
    "# Results\n",
    "for col, error_df in format_errors.items():\n",
    "    print(f\"Report on Format Check for '{col}' (Pattern: '{format_rules[col]}')\")\n",
    "    if error_df.empty:\n",
    "        print(f\"No format errors found in column '{col}'.\")\n",
    "    else:\n",
    "        print(f\"{len(error_df)} format errors found in column '{col}'.\")\n",
    "        print(\"Examples of format errors:\")\n",
    "        display(error_df.head(10))"
   ]
  },
  {
   "cell_type": "markdown",
   "metadata": {},
   "source": [
    "No format errors, so no cleaning required here."
   ]
  },
  {
   "cell_type": "markdown",
   "metadata": {},
   "source": [
    "#### **Check 4: Consistency Check**\n",
    "\n",
    "While we do have columns like year, selling_price, km_driven, fuel, seller_type, transmission, and owner, there is no strict, guaranteed set of logical dependencies in this dataset. For example, it is not explicitly required that a specific fuel type must always imply a specific transmission value, nor that a particular owner status dictates a precise range for km_driven. Any rules we could create (for instance, \"electric cars can’t be manual\") tend to be heuristic rather than definitively contradictory. As such, pure consistency checks (strict logic rules that a violation would necessarily mean invalid data) do not meaningfully apply here."
   ]
  },
  {
   "cell_type": "markdown",
   "metadata": {},
   "source": [
    "#### **Check 5: Uniqueness Check** \n",
    "\n",
    "In our dataset, columns such as name, year, selling_price, km_driven, fuel, seller_type, transmission, and owner do not include any natural primary key (like a car_id or VIN) that must be uniquely assigned to each record. The combination of, for instance, name and year can recur legitimately for multiple cars of the same model and production year, and no domain rule explicitly states any field or set of fields must be unique across the dataset. Thus, a \"uniqueness check\" provides little value here, as repeated entries do not necessarily indicate invalid or duplicated data but can simply reflect different cars sharing attributes."
   ]
  },
  {
   "cell_type": "markdown",
   "metadata": {},
   "source": [
    "#### **Check 6: Presence Check** "
   ]
  },
  {
   "cell_type": "code",
   "execution_count": 243,
   "metadata": {},
   "outputs": [
    {
     "name": "stdout",
     "output_type": "stream",
     "text": [
      "Report on Presence Check for 'year'\n",
      "No missing values found in column 'year'.\n",
      "Report on Presence Check for 'selling_price'\n",
      "No missing values found in column 'selling_price'.\n",
      "Report on Presence Check for 'km_driven'\n",
      "No missing values found in column 'km_driven'.\n",
      "Report on Presence Check for 'name'\n",
      "No missing values found in column 'name'.\n",
      "Report on Presence Check for 'fuel'\n",
      "No missing values found in column 'fuel'.\n",
      "Report on Presence Check for 'seller_type'\n",
      "No missing values found in column 'seller_type'.\n",
      "Report on Presence Check for 'transmission'\n",
      "No missing values found in column 'transmission'.\n",
      "Report on Presence Check for 'owner'\n",
      "No missing values found in column 'owner'.\n"
     ]
    }
   ],
   "source": [
    "# Define which columns must not be null for presence checks\n",
    "presence_cols = [\n",
    "    \"year\",\n",
    "    \"selling_price\",\n",
    "    \"km_driven\",\n",
    "    \"name\",\n",
    "    \"fuel\",\n",
    "    \"seller_type\",\n",
    "    \"transmission\",\n",
    "    \"owner\"\n",
    "]\n",
    "\n",
    "# Checker Code\n",
    "presence_errors = {}\n",
    "for col in presence_cols:\n",
    "    missing_mask = df[col].isnull()\n",
    "    presence_errors[col] = df.loc[missing_mask]\n",
    "\n",
    "# Results\n",
    "for col, error_df in presence_errors.items():\n",
    "    print(f\"Report on Presence Check for '{col}'\")\n",
    "    if error_df.empty:\n",
    "        print(f\"No missing values found in column '{col}'.\")\n",
    "    else:\n",
    "        print(f\"{len(error_df)} rows have missing (null) values in '{col}'.\")\n",
    "        print(\"Examples of missing-value rows:\")\n",
    "        display(error_df.head(10))"
   ]
  },
  {
   "cell_type": "markdown",
   "metadata": {},
   "source": [
    "No presence check errors, so no cleaning required here."
   ]
  },
  {
   "cell_type": "markdown",
   "metadata": {},
   "source": [
    "#### **Check 7: Length Check** "
   ]
  },
  {
   "cell_type": "code",
   "execution_count": 244,
   "metadata": {},
   "outputs": [
    {
     "name": "stdout",
     "output_type": "stream",
     "text": [
      "Report on Length Check for 'name' (Allowed: (1, 70))\n",
      "No length errors found in column 'name'.\n",
      "Report on Length Check for 'fuel' (Allowed: (3, 10))\n",
      "No length errors found in column 'fuel'.\n",
      "Report on Length Check for 'seller_type' (Allowed: (3, 20))\n",
      "No length errors found in column 'seller_type'.\n",
      "Report on Length Check for 'transmission' (Allowed: (3, 10))\n",
      "No length errors found in column 'transmission'.\n",
      "Report on Length Check for 'owner' (Allowed: (5, 20))\n",
      "No length errors found in column 'owner'.\n"
     ]
    }
   ],
   "source": [
    "# Define the minimum and maximum allowed lengths for each string column\n",
    "# Format: { column_name: (min_length, max_length) }\n",
    "length_constraints = {\n",
    "    \"name\": (1, 70),\n",
    "    \"fuel\": (3, 10),\n",
    "    \"seller_type\": (3, 20),\n",
    "    \"transmission\": (3, 10),\n",
    "    \"owner\": (5, 20)\n",
    "}\n",
    "\n",
    "# Checker Code\n",
    "length_errors = {}\n",
    "for col, (min_len, max_len) in length_constraints.items():\n",
    "    str_col = df[col].astype(str)\n",
    "    # Identify rows that are too short or too long\n",
    "    too_short_mask = str_col.str.len() < min_len\n",
    "    too_long_mask = str_col.str.len() > max_len\n",
    "    # Combine both to create the final mask\n",
    "    length_mask = too_short_mask | too_long_mask\n",
    "    length_errors[col] = df.loc[length_mask]\n",
    "\n",
    "# Results\n",
    "for col, error_df in length_errors.items():\n",
    "    print(f\"Report on Length Check for '{col}' (Allowed: {length_constraints[col]})\")\n",
    "    if error_df.empty:\n",
    "        print(f\"No length errors found in column '{col}'.\")\n",
    "    else:\n",
    "        print(f\"{len(error_df)} rows have length errors in '{col}'.\")\n",
    "        print(\"Examples of invalid length rows:\")\n",
    "        display(error_df.head(10))"
   ]
  },
  {
   "cell_type": "markdown",
   "metadata": {},
   "source": [
    "No length errors, so no cleaning required here."
   ]
  },
  {
   "cell_type": "markdown",
   "metadata": {},
   "source": [
    "#### **Check 8: Lookup Check** "
   ]
  },
  {
   "cell_type": "code",
   "execution_count": 245,
   "metadata": {},
   "outputs": [
    {
     "name": "stdout",
     "output_type": "stream",
     "text": [
      "Report on Look-up Check for 'fuel' (Valid Values: ['Petrol', 'Diesel', 'CNG', 'LPG', 'Electric'])\n",
      "No invalid categories found in column 'fuel'.\n",
      "Report on Look-up Check for 'seller_type' (Valid Values: ['Individual', 'Dealer', 'Trustmark Dealer'])\n",
      "No invalid categories found in column 'seller_type'.\n",
      "Report on Look-up Check for 'transmission' (Valid Values: ['Manual', 'Automatic'])\n",
      "No invalid categories found in column 'transmission'.\n",
      "Report on Look-up Check for 'owner' (Valid Values: ['First Owner', 'Second Owner', 'Fourth & Above Owner', 'Third Owner', 'Test Drive Car'])\n",
      "No invalid categories found in column 'owner'.\n"
     ]
    }
   ],
   "source": [
    "# Define valid values for each categorical column\n",
    "lookup_valid_values = {\n",
    "  \"fuel\": ['Petrol', 'Diesel', 'CNG', 'LPG', 'Electric'],\n",
    "  \"seller_type\": [\"Individual\", \"Dealer\", \"Trustmark Dealer\"], # trustmark dealer and dealer are distinct definitions\n",
    "  \"transmission\": [\"Manual\", \"Automatic\"],\n",
    "  \"owner\": ['First Owner', 'Second Owner', 'Fourth & Above Owner', 'Third Owner', 'Test Drive Car']\n",
    "}\n",
    "\n",
    "# Checker Code\n",
    "lookup_errors = {}\n",
    "for col, valid_list in lookup_valid_values.items():\n",
    "  invalid_mask = ~df[col].isin(valid_list)\n",
    "  lookup_errors[col] = df.loc[invalid_mask]\n",
    "\n",
    "# Results\n",
    "for col, error_df in lookup_errors.items():\n",
    "  print(f\"Report on Look-up Check for '{col}' (Valid Values: {lookup_valid_values[col]})\")\n",
    "  if error_df.empty:\n",
    "    print(f\"No invalid categories found in column '{col}'.\")\n",
    "  else:\n",
    "    print(f\"{len(error_df)} rows have invalid categories in '{col}'.\")\n",
    "    print(\"Examples of invalid-category rows:\")\n",
    "    display(error_df.head(10))"
   ]
  },
  {
   "cell_type": "markdown",
   "metadata": {},
   "source": [
    "No lookup check errors, so no cleaning required here."
   ]
  },
  {
   "cell_type": "markdown",
   "metadata": {},
   "source": [
    "#### **Check 9: Duplicate Check** "
   ]
  },
  {
   "cell_type": "code",
   "execution_count": 246,
   "metadata": {},
   "outputs": [
    {
     "name": "stdout",
     "output_type": "stream",
     "text": [
      "763 rows are involved in exact duplicates.\n",
      "Examples of duplicate rows:\n"
     ]
    },
    {
     "data": {
      "text/html": [
       "<div>\n",
       "<style scoped>\n",
       "    .dataframe tbody tr th:only-of-type {\n",
       "        vertical-align: middle;\n",
       "    }\n",
       "\n",
       "    .dataframe tbody tr th {\n",
       "        vertical-align: top;\n",
       "    }\n",
       "\n",
       "    .dataframe thead th {\n",
       "        text-align: right;\n",
       "    }\n",
       "</style>\n",
       "<table border=\"1\" class=\"dataframe\">\n",
       "  <thead>\n",
       "    <tr style=\"text-align: right;\">\n",
       "      <th></th>\n",
       "      <th>name</th>\n",
       "      <th>year</th>\n",
       "      <th>selling_price</th>\n",
       "      <th>km_driven</th>\n",
       "      <th>fuel</th>\n",
       "      <th>seller_type</th>\n",
       "      <th>transmission</th>\n",
       "      <th>owner</th>\n",
       "    </tr>\n",
       "  </thead>\n",
       "  <tbody>\n",
       "    <tr>\n",
       "      <th>13</th>\n",
       "      <td>Maruti 800 AC</td>\n",
       "      <td>2007</td>\n",
       "      <td>60000</td>\n",
       "      <td>70000</td>\n",
       "      <td>Petrol</td>\n",
       "      <td>Individual</td>\n",
       "      <td>Manual</td>\n",
       "      <td>First Owner</td>\n",
       "    </tr>\n",
       "    <tr>\n",
       "      <th>14</th>\n",
       "      <td>Maruti Wagon R LXI Minor</td>\n",
       "      <td>2007</td>\n",
       "      <td>135000</td>\n",
       "      <td>50000</td>\n",
       "      <td>Petrol</td>\n",
       "      <td>Individual</td>\n",
       "      <td>Manual</td>\n",
       "      <td>First Owner</td>\n",
       "    </tr>\n",
       "    <tr>\n",
       "      <th>15</th>\n",
       "      <td>Hyundai Verna 1.6 SX</td>\n",
       "      <td>2012</td>\n",
       "      <td>600000</td>\n",
       "      <td>100000</td>\n",
       "      <td>Diesel</td>\n",
       "      <td>Individual</td>\n",
       "      <td>Manual</td>\n",
       "      <td>First Owner</td>\n",
       "    </tr>\n",
       "    <tr>\n",
       "      <th>16</th>\n",
       "      <td>Datsun RediGO T Option</td>\n",
       "      <td>2017</td>\n",
       "      <td>250000</td>\n",
       "      <td>46000</td>\n",
       "      <td>Petrol</td>\n",
       "      <td>Individual</td>\n",
       "      <td>Manual</td>\n",
       "      <td>First Owner</td>\n",
       "    </tr>\n",
       "    <tr>\n",
       "      <th>17</th>\n",
       "      <td>Honda Amaze VX i-DTEC</td>\n",
       "      <td>2014</td>\n",
       "      <td>450000</td>\n",
       "      <td>141000</td>\n",
       "      <td>Diesel</td>\n",
       "      <td>Individual</td>\n",
       "      <td>Manual</td>\n",
       "      <td>Second Owner</td>\n",
       "    </tr>\n",
       "    <tr>\n",
       "      <th>18</th>\n",
       "      <td>Maruti Alto LX BSIII</td>\n",
       "      <td>2007</td>\n",
       "      <td>140000</td>\n",
       "      <td>125000</td>\n",
       "      <td>Petrol</td>\n",
       "      <td>Individual</td>\n",
       "      <td>Manual</td>\n",
       "      <td>First Owner</td>\n",
       "    </tr>\n",
       "    <tr>\n",
       "      <th>19</th>\n",
       "      <td>Hyundai Xcent 1.2 Kappa S</td>\n",
       "      <td>2016</td>\n",
       "      <td>550000</td>\n",
       "      <td>25000</td>\n",
       "      <td>Petrol</td>\n",
       "      <td>Individual</td>\n",
       "      <td>Manual</td>\n",
       "      <td>First Owner</td>\n",
       "    </tr>\n",
       "    <tr>\n",
       "      <th>20</th>\n",
       "      <td>Tata Indigo Grand Petrol</td>\n",
       "      <td>2014</td>\n",
       "      <td>240000</td>\n",
       "      <td>60000</td>\n",
       "      <td>Petrol</td>\n",
       "      <td>Individual</td>\n",
       "      <td>Manual</td>\n",
       "      <td>Second Owner</td>\n",
       "    </tr>\n",
       "    <tr>\n",
       "      <th>21</th>\n",
       "      <td>Hyundai Creta 1.6 VTVT S</td>\n",
       "      <td>2015</td>\n",
       "      <td>850000</td>\n",
       "      <td>25000</td>\n",
       "      <td>Petrol</td>\n",
       "      <td>Individual</td>\n",
       "      <td>Manual</td>\n",
       "      <td>First Owner</td>\n",
       "    </tr>\n",
       "    <tr>\n",
       "      <th>22</th>\n",
       "      <td>Maruti Celerio Green VXI</td>\n",
       "      <td>2017</td>\n",
       "      <td>365000</td>\n",
       "      <td>78000</td>\n",
       "      <td>CNG</td>\n",
       "      <td>Individual</td>\n",
       "      <td>Manual</td>\n",
       "      <td>First Owner</td>\n",
       "    </tr>\n",
       "  </tbody>\n",
       "</table>\n",
       "</div>"
      ],
      "text/plain": [
       "                         name  year  selling_price  km_driven    fuel  \\\n",
       "13              Maruti 800 AC  2007          60000      70000  Petrol   \n",
       "14   Maruti Wagon R LXI Minor  2007         135000      50000  Petrol   \n",
       "15       Hyundai Verna 1.6 SX  2012         600000     100000  Diesel   \n",
       "16     Datsun RediGO T Option  2017         250000      46000  Petrol   \n",
       "17      Honda Amaze VX i-DTEC  2014         450000     141000  Diesel   \n",
       "18       Maruti Alto LX BSIII  2007         140000     125000  Petrol   \n",
       "19  Hyundai Xcent 1.2 Kappa S  2016         550000      25000  Petrol   \n",
       "20   Tata Indigo Grand Petrol  2014         240000      60000  Petrol   \n",
       "21   Hyundai Creta 1.6 VTVT S  2015         850000      25000  Petrol   \n",
       "22   Maruti Celerio Green VXI  2017         365000      78000     CNG   \n",
       "\n",
       "   seller_type transmission         owner  \n",
       "13  Individual       Manual   First Owner  \n",
       "14  Individual       Manual   First Owner  \n",
       "15  Individual       Manual   First Owner  \n",
       "16  Individual       Manual   First Owner  \n",
       "17  Individual       Manual  Second Owner  \n",
       "18  Individual       Manual   First Owner  \n",
       "19  Individual       Manual   First Owner  \n",
       "20  Individual       Manual  Second Owner  \n",
       "21  Individual       Manual   First Owner  \n",
       "22  Individual       Manual   First Owner  "
      ]
     },
     "metadata": {},
     "output_type": "display_data"
    }
   ],
   "source": [
    "# Checker Code\n",
    "duplicate_errors = df[df.duplicated(keep='first')]\n",
    "\n",
    "# Results\n",
    "if duplicate_errors.empty:\n",
    "    print(\"No exact duplicate errors found.\")\n",
    "else:\n",
    "    print(f\"{len(duplicate_errors)} rows are involved in exact duplicates.\")\n",
    "    print(\"Examples of duplicate rows:\")\n",
    "    display(duplicate_errors.head(10))"
   ]
  },
  {
   "cell_type": "markdown",
   "metadata": {},
   "source": [
    "**Cleaning Duplicate Rows** "
   ]
  },
  {
   "cell_type": "code",
   "execution_count": 247,
   "metadata": {},
   "outputs": [
    {
     "name": "stdout",
     "output_type": "stream",
     "text": [
      "Removing duplicate rows...\n",
      "Removed 763 duplicate rows. Updated dataset length: 3577\n"
     ]
    }
   ],
   "source": [
    "print(\"Removing duplicate rows...\")\n",
    "initial_len = len(df)\n",
    "df.drop_duplicates(keep='first', inplace=True)\n",
    "final_len = len(df)\n",
    "print(f\"Removed {initial_len - final_len} duplicate rows. Updated dataset length: {final_len}\")"
   ]
  },
  {
   "cell_type": "markdown",
   "metadata": {},
   "source": [
    "**Verifying No Duplicate Rows**"
   ]
  },
  {
   "cell_type": "code",
   "execution_count": 248,
   "metadata": {},
   "outputs": [
    {
     "name": "stdout",
     "output_type": "stream",
     "text": [
      "No exact duplicate errors found.\n"
     ]
    }
   ],
   "source": [
    "# Checker Code\n",
    "duplicate_errors = df[df.duplicated(keep='first')]\n",
    "\n",
    "# Results\n",
    "if duplicate_errors.empty:\n",
    "    print(\"No exact duplicate errors found.\")\n",
    "else:\n",
    "    print(f\"{len(duplicate_errors)} rows are involved in exact duplicates.\")\n",
    "    print(\"Examples of duplicate rows:\")\n",
    "    display(duplicate_errors.head(10))"
   ]
  },
  {
   "cell_type": "markdown",
   "metadata": {},
   "source": [
    "#### **Check 10: Near Duplicate Errors** "
   ]
  },
  {
   "cell_type": "markdown",
   "metadata": {},
   "source": [
    "In this dataset, attributes such as name, year, selling_price, and km_driven can vary significantly, even for cars of the same model. A single difference in mileage, price, or fuel type may reflect a genuinely distinct listing. Since these columns play a decisive role in identifying a car's unique identity, labeling rows with minor differences as \"near duplicates\" can lead to misclassification of truly separate entries. Consequently, a near-duplicate check does not meaningfully apply here, as the dataset's attributes carry enough variability and relevance that each row's tiny variation is likely important rather than indicative of redundant data. \n",
    "\n",
    "We will still check the semantic uniqueness of categorical attributes (except \"name\"--we don't use \"name\" in our analysis), as it's not best practice to ignore synonyms of words when creating near duplicates."
   ]
  },
  {
   "cell_type": "code",
   "execution_count": 249,
   "metadata": {},
   "outputs": [
    {
     "name": "stdout",
     "output_type": "stream",
     "text": [
      "Column: fuel\n",
      "Unique Values: ['Petrol' 'Diesel' 'CNG' 'LPG' 'Electric']\n",
      "Total Unique: 5\n",
      "Column: seller_type\n",
      "Unique Values: ['Individual' 'Dealer' 'Trustmark Dealer']\n",
      "Total Unique: 3\n",
      "Column: transmission\n",
      "Unique Values: ['Manual' 'Automatic']\n",
      "Total Unique: 2\n",
      "Column: owner\n",
      "Unique Values: ['First Owner' 'Second Owner' 'Fourth & Above Owner' 'Third Owner'\n",
      " 'Test Drive Car']\n",
      "Total Unique: 5\n"
     ]
    }
   ],
   "source": [
    "# Checking unique values for all categorical features\n",
    "for col in [\"fuel\", \"seller_type\", \"transmission\", \"owner\"]:\n",
    "    unique_vals = df[col].unique()\n",
    "    print(f\"Column: {col}\")\n",
    "    print(\"Unique Values:\", unique_vals)\n",
    "    print(f\"Total Unique: {len(unique_vals)}\")"
   ]
  },
  {
   "cell_type": "markdown",
   "metadata": {},
   "source": [
    "All unique values for the categorical attributes are distinct. One could suspect closeness in meaning between 'Dealer' and 'Trustmark Dealer', but they are distinct terms used to signify the difference between a \"third-party dealer\" and a \"trusted, official dealer\", respectively."
   ]
  },
  {
   "cell_type": "markdown",
   "metadata": {},
   "source": [
    "### **Section B: One-Hot Encoding**"
   ]
  },
  {
   "cell_type": "markdown",
   "metadata": {},
   "source": [
    "Here, we first list the columns suitable for one-hot encoding (fuel, seller_type, transmission, and owner), then use pd.get_dummies to one-hot encode. We set drop_first=True to avoid perfect multicollinearity (\"dummy variable trap\") [2], ensuring only (k-1) indicator columns for each categorical feature. We don't one-hot encode the name column, as that has too many unique values."
   ]
  },
  {
   "cell_type": "code",
   "execution_count": 250,
   "metadata": {},
   "outputs": [
    {
     "name": "stdout",
     "output_type": "stream",
     "text": [
      "Original shape: (3577, 8)\n",
      "Encoded shape: (3577, 23)\n",
      "One-hot encoded dataset (head):\n"
     ]
    },
    {
     "data": {
      "text/html": [
       "<div>\n",
       "<style scoped>\n",
       "    .dataframe tbody tr th:only-of-type {\n",
       "        vertical-align: middle;\n",
       "    }\n",
       "\n",
       "    .dataframe tbody tr th {\n",
       "        vertical-align: top;\n",
       "    }\n",
       "\n",
       "    .dataframe thead th {\n",
       "        text-align: right;\n",
       "    }\n",
       "</style>\n",
       "<table border=\"1\" class=\"dataframe\">\n",
       "  <thead>\n",
       "    <tr style=\"text-align: right;\">\n",
       "      <th></th>\n",
       "      <th>name</th>\n",
       "      <th>year</th>\n",
       "      <th>selling_price</th>\n",
       "      <th>km_driven</th>\n",
       "      <th>fuel</th>\n",
       "      <th>seller_type</th>\n",
       "      <th>transmission</th>\n",
       "      <th>owner</th>\n",
       "      <th>fuel_CNG</th>\n",
       "      <th>fuel_Diesel</th>\n",
       "      <th>...</th>\n",
       "      <th>seller_type_Dealer</th>\n",
       "      <th>seller_type_Individual</th>\n",
       "      <th>seller_type_Trustmark Dealer</th>\n",
       "      <th>transmission_Automatic</th>\n",
       "      <th>transmission_Manual</th>\n",
       "      <th>owner_First Owner</th>\n",
       "      <th>owner_Fourth &amp; Above Owner</th>\n",
       "      <th>owner_Second Owner</th>\n",
       "      <th>owner_Test Drive Car</th>\n",
       "      <th>owner_Third Owner</th>\n",
       "    </tr>\n",
       "  </thead>\n",
       "  <tbody>\n",
       "    <tr>\n",
       "      <th>0</th>\n",
       "      <td>Maruti 800 AC</td>\n",
       "      <td>2007</td>\n",
       "      <td>60000</td>\n",
       "      <td>70000</td>\n",
       "      <td>Petrol</td>\n",
       "      <td>Individual</td>\n",
       "      <td>Manual</td>\n",
       "      <td>First Owner</td>\n",
       "      <td>False</td>\n",
       "      <td>False</td>\n",
       "      <td>...</td>\n",
       "      <td>False</td>\n",
       "      <td>True</td>\n",
       "      <td>False</td>\n",
       "      <td>False</td>\n",
       "      <td>True</td>\n",
       "      <td>True</td>\n",
       "      <td>False</td>\n",
       "      <td>False</td>\n",
       "      <td>False</td>\n",
       "      <td>False</td>\n",
       "    </tr>\n",
       "    <tr>\n",
       "      <th>1</th>\n",
       "      <td>Maruti Wagon R LXI Minor</td>\n",
       "      <td>2007</td>\n",
       "      <td>135000</td>\n",
       "      <td>50000</td>\n",
       "      <td>Petrol</td>\n",
       "      <td>Individual</td>\n",
       "      <td>Manual</td>\n",
       "      <td>First Owner</td>\n",
       "      <td>False</td>\n",
       "      <td>False</td>\n",
       "      <td>...</td>\n",
       "      <td>False</td>\n",
       "      <td>True</td>\n",
       "      <td>False</td>\n",
       "      <td>False</td>\n",
       "      <td>True</td>\n",
       "      <td>True</td>\n",
       "      <td>False</td>\n",
       "      <td>False</td>\n",
       "      <td>False</td>\n",
       "      <td>False</td>\n",
       "    </tr>\n",
       "    <tr>\n",
       "      <th>2</th>\n",
       "      <td>Hyundai Verna 1.6 SX</td>\n",
       "      <td>2012</td>\n",
       "      <td>600000</td>\n",
       "      <td>100000</td>\n",
       "      <td>Diesel</td>\n",
       "      <td>Individual</td>\n",
       "      <td>Manual</td>\n",
       "      <td>First Owner</td>\n",
       "      <td>False</td>\n",
       "      <td>True</td>\n",
       "      <td>...</td>\n",
       "      <td>False</td>\n",
       "      <td>True</td>\n",
       "      <td>False</td>\n",
       "      <td>False</td>\n",
       "      <td>True</td>\n",
       "      <td>True</td>\n",
       "      <td>False</td>\n",
       "      <td>False</td>\n",
       "      <td>False</td>\n",
       "      <td>False</td>\n",
       "    </tr>\n",
       "    <tr>\n",
       "      <th>3</th>\n",
       "      <td>Datsun RediGO T Option</td>\n",
       "      <td>2017</td>\n",
       "      <td>250000</td>\n",
       "      <td>46000</td>\n",
       "      <td>Petrol</td>\n",
       "      <td>Individual</td>\n",
       "      <td>Manual</td>\n",
       "      <td>First Owner</td>\n",
       "      <td>False</td>\n",
       "      <td>False</td>\n",
       "      <td>...</td>\n",
       "      <td>False</td>\n",
       "      <td>True</td>\n",
       "      <td>False</td>\n",
       "      <td>False</td>\n",
       "      <td>True</td>\n",
       "      <td>True</td>\n",
       "      <td>False</td>\n",
       "      <td>False</td>\n",
       "      <td>False</td>\n",
       "      <td>False</td>\n",
       "    </tr>\n",
       "    <tr>\n",
       "      <th>4</th>\n",
       "      <td>Honda Amaze VX i-DTEC</td>\n",
       "      <td>2014</td>\n",
       "      <td>450000</td>\n",
       "      <td>141000</td>\n",
       "      <td>Diesel</td>\n",
       "      <td>Individual</td>\n",
       "      <td>Manual</td>\n",
       "      <td>Second Owner</td>\n",
       "      <td>False</td>\n",
       "      <td>True</td>\n",
       "      <td>...</td>\n",
       "      <td>False</td>\n",
       "      <td>True</td>\n",
       "      <td>False</td>\n",
       "      <td>False</td>\n",
       "      <td>True</td>\n",
       "      <td>False</td>\n",
       "      <td>False</td>\n",
       "      <td>True</td>\n",
       "      <td>False</td>\n",
       "      <td>False</td>\n",
       "    </tr>\n",
       "  </tbody>\n",
       "</table>\n",
       "<p>5 rows × 23 columns</p>\n",
       "</div>"
      ],
      "text/plain": [
       "                       name  year  selling_price  km_driven    fuel  \\\n",
       "0             Maruti 800 AC  2007          60000      70000  Petrol   \n",
       "1  Maruti Wagon R LXI Minor  2007         135000      50000  Petrol   \n",
       "2      Hyundai Verna 1.6 SX  2012         600000     100000  Diesel   \n",
       "3    Datsun RediGO T Option  2017         250000      46000  Petrol   \n",
       "4     Honda Amaze VX i-DTEC  2014         450000     141000  Diesel   \n",
       "\n",
       "  seller_type transmission         owner  fuel_CNG  fuel_Diesel  ...  \\\n",
       "0  Individual       Manual   First Owner     False        False  ...   \n",
       "1  Individual       Manual   First Owner     False        False  ...   \n",
       "2  Individual       Manual   First Owner     False         True  ...   \n",
       "3  Individual       Manual   First Owner     False        False  ...   \n",
       "4  Individual       Manual  Second Owner     False         True  ...   \n",
       "\n",
       "   seller_type_Dealer  seller_type_Individual  seller_type_Trustmark Dealer  \\\n",
       "0               False                    True                         False   \n",
       "1               False                    True                         False   \n",
       "2               False                    True                         False   \n",
       "3               False                    True                         False   \n",
       "4               False                    True                         False   \n",
       "\n",
       "   transmission_Automatic  transmission_Manual  owner_First Owner  \\\n",
       "0                   False                 True               True   \n",
       "1                   False                 True               True   \n",
       "2                   False                 True               True   \n",
       "3                   False                 True               True   \n",
       "4                   False                 True              False   \n",
       "\n",
       "   owner_Fourth & Above Owner  owner_Second Owner  owner_Test Drive Car  \\\n",
       "0                       False               False                 False   \n",
       "1                       False               False                 False   \n",
       "2                       False               False                 False   \n",
       "3                       False               False                 False   \n",
       "4                       False                True                 False   \n",
       "\n",
       "   owner_Third Owner  \n",
       "0              False  \n",
       "1              False  \n",
       "2              False  \n",
       "3              False  \n",
       "4              False  \n",
       "\n",
       "[5 rows x 23 columns]"
      ]
     },
     "execution_count": 250,
     "metadata": {},
     "output_type": "execute_result"
    }
   ],
   "source": [
    "# Define our categorical columns\n",
    "categorical_cols = [\"fuel\", \"seller_type\", \"transmission\", \"owner\"]\n",
    "# One-hot encode but also keep original columns \n",
    "# This is for categorical outlier analysis\n",
    "dummy_subset = pd.get_dummies(df[categorical_cols], drop_first=False)\n",
    "df_encoded = pd.concat([df, dummy_subset], axis=1)\n",
    "# Displaying the transformed dataset\n",
    "print(\"Original shape:\", df.shape)\n",
    "print(\"Encoded shape:\", df_encoded.shape)\n",
    "print(\"One-hot encoded dataset (head):\")\n",
    "df_encoded.head()"
   ]
  },
  {
   "cell_type": "markdown",
   "metadata": {},
   "source": [
    "**Removing \"Name\"**"
   ]
  },
  {
   "cell_type": "markdown",
   "metadata": {},
   "source": [
    "We drop the \"name\" column, because it's largely unstructured text identifying the car's make/model and doesn’t directly contribute numerical or categorical information that a linear regression model can leverage."
   ]
  },
  {
   "cell_type": "code",
   "execution_count": 251,
   "metadata": {},
   "outputs": [
    {
     "data": {
      "text/html": [
       "<div>\n",
       "<style scoped>\n",
       "    .dataframe tbody tr th:only-of-type {\n",
       "        vertical-align: middle;\n",
       "    }\n",
       "\n",
       "    .dataframe tbody tr th {\n",
       "        vertical-align: top;\n",
       "    }\n",
       "\n",
       "    .dataframe thead th {\n",
       "        text-align: right;\n",
       "    }\n",
       "</style>\n",
       "<table border=\"1\" class=\"dataframe\">\n",
       "  <thead>\n",
       "    <tr style=\"text-align: right;\">\n",
       "      <th></th>\n",
       "      <th>year</th>\n",
       "      <th>selling_price</th>\n",
       "      <th>km_driven</th>\n",
       "      <th>fuel</th>\n",
       "      <th>seller_type</th>\n",
       "      <th>transmission</th>\n",
       "      <th>owner</th>\n",
       "      <th>fuel_CNG</th>\n",
       "      <th>fuel_Diesel</th>\n",
       "      <th>fuel_Electric</th>\n",
       "      <th>...</th>\n",
       "      <th>seller_type_Dealer</th>\n",
       "      <th>seller_type_Individual</th>\n",
       "      <th>seller_type_Trustmark Dealer</th>\n",
       "      <th>transmission_Automatic</th>\n",
       "      <th>transmission_Manual</th>\n",
       "      <th>owner_First Owner</th>\n",
       "      <th>owner_Fourth &amp; Above Owner</th>\n",
       "      <th>owner_Second Owner</th>\n",
       "      <th>owner_Test Drive Car</th>\n",
       "      <th>owner_Third Owner</th>\n",
       "    </tr>\n",
       "  </thead>\n",
       "  <tbody>\n",
       "    <tr>\n",
       "      <th>0</th>\n",
       "      <td>2007</td>\n",
       "      <td>60000</td>\n",
       "      <td>70000</td>\n",
       "      <td>Petrol</td>\n",
       "      <td>Individual</td>\n",
       "      <td>Manual</td>\n",
       "      <td>First Owner</td>\n",
       "      <td>False</td>\n",
       "      <td>False</td>\n",
       "      <td>False</td>\n",
       "      <td>...</td>\n",
       "      <td>False</td>\n",
       "      <td>True</td>\n",
       "      <td>False</td>\n",
       "      <td>False</td>\n",
       "      <td>True</td>\n",
       "      <td>True</td>\n",
       "      <td>False</td>\n",
       "      <td>False</td>\n",
       "      <td>False</td>\n",
       "      <td>False</td>\n",
       "    </tr>\n",
       "    <tr>\n",
       "      <th>1</th>\n",
       "      <td>2007</td>\n",
       "      <td>135000</td>\n",
       "      <td>50000</td>\n",
       "      <td>Petrol</td>\n",
       "      <td>Individual</td>\n",
       "      <td>Manual</td>\n",
       "      <td>First Owner</td>\n",
       "      <td>False</td>\n",
       "      <td>False</td>\n",
       "      <td>False</td>\n",
       "      <td>...</td>\n",
       "      <td>False</td>\n",
       "      <td>True</td>\n",
       "      <td>False</td>\n",
       "      <td>False</td>\n",
       "      <td>True</td>\n",
       "      <td>True</td>\n",
       "      <td>False</td>\n",
       "      <td>False</td>\n",
       "      <td>False</td>\n",
       "      <td>False</td>\n",
       "    </tr>\n",
       "    <tr>\n",
       "      <th>2</th>\n",
       "      <td>2012</td>\n",
       "      <td>600000</td>\n",
       "      <td>100000</td>\n",
       "      <td>Diesel</td>\n",
       "      <td>Individual</td>\n",
       "      <td>Manual</td>\n",
       "      <td>First Owner</td>\n",
       "      <td>False</td>\n",
       "      <td>True</td>\n",
       "      <td>False</td>\n",
       "      <td>...</td>\n",
       "      <td>False</td>\n",
       "      <td>True</td>\n",
       "      <td>False</td>\n",
       "      <td>False</td>\n",
       "      <td>True</td>\n",
       "      <td>True</td>\n",
       "      <td>False</td>\n",
       "      <td>False</td>\n",
       "      <td>False</td>\n",
       "      <td>False</td>\n",
       "    </tr>\n",
       "    <tr>\n",
       "      <th>3</th>\n",
       "      <td>2017</td>\n",
       "      <td>250000</td>\n",
       "      <td>46000</td>\n",
       "      <td>Petrol</td>\n",
       "      <td>Individual</td>\n",
       "      <td>Manual</td>\n",
       "      <td>First Owner</td>\n",
       "      <td>False</td>\n",
       "      <td>False</td>\n",
       "      <td>False</td>\n",
       "      <td>...</td>\n",
       "      <td>False</td>\n",
       "      <td>True</td>\n",
       "      <td>False</td>\n",
       "      <td>False</td>\n",
       "      <td>True</td>\n",
       "      <td>True</td>\n",
       "      <td>False</td>\n",
       "      <td>False</td>\n",
       "      <td>False</td>\n",
       "      <td>False</td>\n",
       "    </tr>\n",
       "    <tr>\n",
       "      <th>4</th>\n",
       "      <td>2014</td>\n",
       "      <td>450000</td>\n",
       "      <td>141000</td>\n",
       "      <td>Diesel</td>\n",
       "      <td>Individual</td>\n",
       "      <td>Manual</td>\n",
       "      <td>Second Owner</td>\n",
       "      <td>False</td>\n",
       "      <td>True</td>\n",
       "      <td>False</td>\n",
       "      <td>...</td>\n",
       "      <td>False</td>\n",
       "      <td>True</td>\n",
       "      <td>False</td>\n",
       "      <td>False</td>\n",
       "      <td>True</td>\n",
       "      <td>False</td>\n",
       "      <td>False</td>\n",
       "      <td>True</td>\n",
       "      <td>False</td>\n",
       "      <td>False</td>\n",
       "    </tr>\n",
       "  </tbody>\n",
       "</table>\n",
       "<p>5 rows × 22 columns</p>\n",
       "</div>"
      ],
      "text/plain": [
       "   year  selling_price  km_driven    fuel seller_type transmission  \\\n",
       "0  2007          60000      70000  Petrol  Individual       Manual   \n",
       "1  2007         135000      50000  Petrol  Individual       Manual   \n",
       "2  2012         600000     100000  Diesel  Individual       Manual   \n",
       "3  2017         250000      46000  Petrol  Individual       Manual   \n",
       "4  2014         450000     141000  Diesel  Individual       Manual   \n",
       "\n",
       "          owner  fuel_CNG  fuel_Diesel  fuel_Electric  ...  \\\n",
       "0   First Owner     False        False          False  ...   \n",
       "1   First Owner     False        False          False  ...   \n",
       "2   First Owner     False         True          False  ...   \n",
       "3   First Owner     False        False          False  ...   \n",
       "4  Second Owner     False         True          False  ...   \n",
       "\n",
       "   seller_type_Dealer  seller_type_Individual  seller_type_Trustmark Dealer  \\\n",
       "0               False                    True                         False   \n",
       "1               False                    True                         False   \n",
       "2               False                    True                         False   \n",
       "3               False                    True                         False   \n",
       "4               False                    True                         False   \n",
       "\n",
       "   transmission_Automatic  transmission_Manual  owner_First Owner  \\\n",
       "0                   False                 True               True   \n",
       "1                   False                 True               True   \n",
       "2                   False                 True               True   \n",
       "3                   False                 True               True   \n",
       "4                   False                 True              False   \n",
       "\n",
       "   owner_Fourth & Above Owner  owner_Second Owner  owner_Test Drive Car  \\\n",
       "0                       False               False                 False   \n",
       "1                       False               False                 False   \n",
       "2                       False               False                 False   \n",
       "3                       False               False                 False   \n",
       "4                       False                True                 False   \n",
       "\n",
       "   owner_Third Owner  \n",
       "0              False  \n",
       "1              False  \n",
       "2              False  \n",
       "3              False  \n",
       "4              False  \n",
       "\n",
       "[5 rows x 22 columns]"
      ]
     },
     "metadata": {},
     "output_type": "display_data"
    }
   ],
   "source": [
    "df = df_encoded.drop(columns=[\"name\"])\n",
    "# Show new dataframe without name column\n",
    "display(df.head())"
   ]
  },
  {
   "cell_type": "markdown",
   "metadata": {},
   "source": [
    "### **Creating DR & DT**"
   ]
  },
  {
   "cell_type": "markdown",
   "metadata": {},
   "source": [
    "We separate the target column (selling_price) from the other features, then split the dataset into two parts: 80% as the Reduced Training set (DR) and 20% as the final Test set (DT)."
   ]
  },
  {
   "cell_type": "code",
   "execution_count": 252,
   "metadata": {},
   "outputs": [
    {
     "name": "stdout",
     "output_type": "stream",
     "text": [
      "DR shape: (2861, 22)\n",
      "DT shape: (716, 22)\n"
     ]
    }
   ],
   "source": [
    "# Splitting the total dataset\n",
    "# Taking 80% for DR, 20% for DT\n",
    "DR, DT = train_test_split(df, test_size=0.2, random_state=42)\n",
    "print(\"DR shape:\", DR.shape)\n",
    "print(\"DT shape:\", DT.shape)"
   ]
  },
  {
   "cell_type": "markdown",
   "metadata": {},
   "source": [
    "### **Section C: Outliers and LOF**"
   ]
  },
  {
   "cell_type": "markdown",
   "metadata": {},
   "source": [
    "**Finding features for LOF**"
   ]
  },
  {
   "cell_type": "markdown",
   "metadata": {},
   "source": [
    "First, we display the distributions of relevant, numerical features for LOF with possible outliers."
   ]
  },
  {
   "cell_type": "code",
   "execution_count": 253,
   "metadata": {},
   "outputs": [
    {
     "data": {
      "image/png": "[encoded data removed]",
      "text/plain": [
       "<Figure size 640x480 with 1 Axes>"
      ]
     },
     "metadata": {},
     "output_type": "display_data"
    },
    {
     "data": {
      "image/png": "[encoded data removed]",
      "text/plain": [
       "<Figure size 640x480 with 1 Axes>"
      ]
     },
     "metadata": {},
     "output_type": "display_data"
    },
    {
     "data": {
      "image/png": "[encoded data removed]",
      "text/plain": [
       "<Figure size 640x480 with 1 Axes>"
      ]
     },
     "metadata": {},
     "output_type": "display_data"
    },
    {
     "data": {
      "image/png": "[encoded data removed]",
      "text/plain": [
       "<Figure size 640x480 with 1 Axes>"
      ]
     },
     "metadata": {},
     "output_type": "display_data"
    },
    {
     "data": {
      "image/png": "[encoded data removed]",
      "text/plain": [
       "<Figure size 640x480 with 1 Axes>"
      ]
     },
     "metadata": {},
     "output_type": "display_data"
    },
    {
     "data": {
      "image/png": "[encoded data removed]",
      "text/plain": [
       "<Figure size 640x480 with 1 Axes>"
      ]
     },
     "metadata": {},
     "output_type": "display_data"
    }
   ],
   "source": [
    "# Numeric columns relevant to outlier detection and LOF usage\n",
    "numeric_cols = [\"year\", \"selling_price\", \"km_driven\"]\n",
    "# Display distribution for each numeric column\n",
    "for col in numeric_cols:\n",
    "    plt.figure()\n",
    "    plt.hist(DR[col].dropna(), bins=30)\n",
    "    plt.title(f\"Histogram of {col}\")\n",
    "    plt.xlabel(col)\n",
    "    plt.ylabel(\"Frequency\")\n",
    "    plt.show()\n",
    "    plt.figure()\n",
    "    plt.boxplot(DR[col].dropna())\n",
    "    plt.title(f\"Boxplot of {col}\")\n",
    "    plt.ylabel(col)\n",
    "    plt.show()"
   ]
  },
  {
   "cell_type": "markdown",
   "metadata": {},
   "source": [
    "From the charts, selling_price and km_driven are the most compelling candidates for LOF outlier detection. Both show heavy right‐skew (long tails) and a cluster of extreme values that stand out on the boxplots. Detecting anomalously high or low combinations of price and mileage is important in a used‐car context, e.g. an exceedingly high selling price for a high‐mileage vehicle may be suspicious.\n",
    "\n",
    "We clearly observe that:\n",
    "- selling_price has a significant spread with rare but very large values.\n",
    "- km_driven similarly shows a dense cluster under 100,000 km but then stretches out to 800,000 km.\n",
    "\n",
    "Including year in LOF is less critical because its range is fairly bounded (1992–2020), and older vehicles may not necessarily be \"errors.\" They could be genuine vintage cars. "
   ]
  },
  {
   "cell_type": "markdown",
   "metadata": {},
   "source": [
    "Even though LOF doesn't operate on categorical features, we display their counts to see if there's any feature with extremely low count or not."
   ]
  },
  {
   "cell_type": "code",
   "execution_count": 254,
   "metadata": {},
   "outputs": [
    {
     "data": {
      "image/png": "[encoded data removed]",
      "text/plain": [
       "<Figure size 800x500 with 1 Axes>"
      ]
     },
     "metadata": {},
     "output_type": "display_data"
    },
    {
     "data": {
      "image/png": "[encoded data removed]",
      "text/plain": [
       "<Figure size 800x500 with 1 Axes>"
      ]
     },
     "metadata": {},
     "output_type": "display_data"
    },
    {
     "data": {
      "image/png": "[encoded data removed]",
      "text/plain": [
       "<Figure size 800x500 with 1 Axes>"
      ]
     },
     "metadata": {},
     "output_type": "display_data"
    },
    {
     "data": {
      "image/png": "[encoded data removed]",
      "text/plain": [
       "<Figure size 800x500 with 1 Axes>"
      ]
     },
     "metadata": {},
     "output_type": "display_data"
    }
   ],
   "source": [
    "# Define categorical columns\n",
    "categorical_cols = [\"fuel\", \"seller_type\", \"transmission\", \"owner\"]\n",
    "\n",
    "# Plot countplots for each categorical col\n",
    "for col in categorical_cols:\n",
    "  plt.figure(figsize=(8, 5))\n",
    "  graph = sns.countplot(y=DR[col], order=DR[col].value_counts().index)\n",
    "  plt.title(f\"Countplot of '{col}'\")\n",
    "  plt.xlabel(\"Count\")\n",
    "  plt.ylabel(col)\n",
    "  for p in graph.patches:\n",
    "    width = p.get_width()\n",
    "    graph.annotate(f'{int(width)}', xy=(width, p.get_y() + p.get_height() / 2),\n",
    "                  xytext=(5, 0), textcoords='offset points',\n",
    "                  ha='left', va='center')\n",
    "  plt.show()"
   ]
  },
  {
   "cell_type": "markdown",
   "metadata": {},
   "source": [
    "**Handling Outliers**"
   ]
  },
  {
   "cell_type": "markdown",
   "metadata": {},
   "source": [
    "**Numerical**\n",
    "\n",
    "Before LOF, it makes sense to do both a log transform and standard scaling. The log transform addresses skew and large numerical ranges by compressing heavy tails, making the data more \"normal\", while standard scaling then centers (mean = 0) and normalizes (std = 1) those values, ensuring different features contribute more evenly to LOF. \n",
    "\n",
    "Moreover, we let LOF pick a contamination threshold automatically, as it simplifies matters. We set n_neighbors to 30 for a moderate neighborhood size that balances local vs global density estimation: it's large enough to mitigate issues like duplicates or small clusters but not so large that it blurs actual local anomalies.\n",
    "\n",
    "It's important to note that Z-scores lose their original meaning (everything is expressed in \"std from the mean\"). That's very helpful for distance calculations for LOF, but it's not intuitive for examining real‐world data. Plotting in log-transformed units keeps the context intact, so it's easier to understand whether the outliers are truly anomalous.\n",
    "\n",
    "We will drop the outliers discovered from LOF to ensure that erroneous or extreme values do not skew the model fitting. By removing these flagged rows, we're preserving the typical relationships in the dataset, reducing the risk of overfitting to noise or undermining the model's validity. We don't treat the points as missing values, as we consider these points genuinely invalid or unrepresentative data rather than incomplete entries that can be reliably imputed.\n",
    "\n",
    "**Categorical**\n",
    "\n",
    "From the above charts, we note that certain categorical features have outliers. \n",
    "\n",
    "We will remove \"Electric\" from fuel and \"Test Drive Car\" from owner due to their extremely low frequencies: 1 and 14 instances, respectively. Such rare categories might skew the regression outcomes or introduce instability, as they do not represent meaningful segments. \n",
    "\n",
    "Conversely, we will keep \"LPG\" (20 instances), \"CNG\" (37 instances), and \"Trustmark Dealer\" (33 instances) despite their lower counts, as these still represent sufficient data points to contribute meaningfully without significantly biasing the model.\n",
    "\n",
    "We won't treat these outliers as missing values and impute them, as we consider these points genuinely invalid."
   ]
  },
  {
   "cell_type": "code",
   "execution_count": 255,
   "metadata": {},
   "outputs": [],
   "source": [
    "def remove_outliers_and_categorical(d_in):\n",
    "    \"\"\"\n",
    "    - Makes a copy of the input DataFrame.\n",
    "    - Log-transforms 'selling_price' and 'km_driven' to handle skew.\n",
    "    - Standard-scales those logged values.\n",
    "    - Uses LocalOutlierFactor (n_neighbors=30) to detect numeric outliers.\n",
    "    - Plots outliers vs. inliers in log space for visualization.\n",
    "    - Keeps only inliers (predictions == 1).\n",
    "    - Removes rows where fuel == 'Electric' or owner == 'Test Drive Car'.\n",
    "    - Returns the final cleaned dataframe.\n",
    "    \"\"\"\n",
    "    df_lof = d_in.copy()\n",
    "    # Log-transform 'selling_price' and 'km_driven' to handle skew\n",
    "    df_lof[\"log_selling_price\"] = np.log1p(df_lof[\"selling_price\"])\n",
    "    df_lof[\"log_km_driven\"] = np.log1p(df_lof[\"km_driven\"])\n",
    "    data_logged = df_lof[[\"log_selling_price\", \"log_km_driven\"]]\n",
    "\n",
    "    # Standard scale the log-transformed features to put them\n",
    "    # in proportional, similar units for distance calculation\n",
    "    scaler = StandardScaler()\n",
    "    data_scaled = scaler.fit_transform(data_logged)\n",
    "\n",
    "    # Prepare LOF class, fit, and predict\n",
    "    lof = LocalOutlierFactor(n_neighbors=30, contamination=0.02)\n",
    "    predictions = lof.fit_predict(data_scaled) \n",
    "\n",
    "    # Count & display numeric outliers\n",
    "    outliers = df_lof[predictions == -1]\n",
    "    n_outliers = len(outliers)\n",
    "    print(f\"Number of outliers detected (bivariate, log+scaled, auto contamination): {n_outliers}\")\n",
    "    if n_outliers > 0:\n",
    "        print(\"Sample outliers:\")\n",
    "        display(outliers.head(5))\n",
    "    else:\n",
    "        print(\"No outliers flagged with these LOF settings.\")\n",
    "\n",
    "    # Results\n",
    "    plt.figure(figsize=(8, 5))\n",
    "    # For interpretability, we plot the log-transformed values\n",
    "    inliers_logged = data_logged[predictions == 1]\n",
    "    outliers_logged = data_logged[predictions == -1]\n",
    "    plt.scatter(inliers_logged[\"log_km_driven\"], inliers_logged[\"log_selling_price\"],\n",
    "                label=\"Inliers (log-space)\", alpha=0.5)\n",
    "    plt.scatter(outliers_logged[\"log_km_driven\"], outliers_logged[\"log_selling_price\"],\n",
    "                color=\"red\", label=\"Outliers (log-space)\", marker=\"x\", s=80)\n",
    "    plt.title(\"LOF Outliers in Log Space\")\n",
    "    plt.xlabel(\"log_km_driven\")\n",
    "    plt.ylabel(\"log_selling_price\")\n",
    "    plt.legend()\n",
    "    plt.show()\n",
    "\n",
    "    print(\"Removing numerical outliers\")\n",
    "    print()\n",
    "    print(f\"Shape before removing numerical outliers: {df_lof.shape}\")\n",
    "    print()\n",
    "    df_lof = df_lof[predictions == 1].copy()\n",
    "    print(f\"Shape after removing numerical outliers: {df_lof.shape}\")\n",
    "    print()\n",
    "\n",
    "    print(\"Removing one-hot columns for categorical outliers\")\n",
    "    print()\n",
    "    print(f\"Shape before removing one-hot columns: {df_lof.shape}\")\n",
    "    print()\n",
    "    one_hot_cols_to_drop = [\"fuel_Electric\", \"owner_Test Drive Car\"]\n",
    "    df_lof.drop(columns=one_hot_cols_to_drop, inplace=True, errors=\"ignore\")\n",
    "    print(\"Remaining columns:\", df_lof.columns)\n",
    "    print()\n",
    "    print(f\"Shape after removing one-hot columns: {df_lof.shape}\")\n",
    "    print()\n",
    "\n",
    "    # Drop the log columns from the returned dataframe\n",
    "    df_lof.drop(columns=[\"log_selling_price\", \"log_km_driven\"], inplace=True, errors=\"ignore\")\n",
    "    return df_lof"
   ]
  },
  {
   "cell_type": "markdown",
   "metadata": {},
   "source": [
    "### **Section D: Exploring Linear Regression**"
   ]
  },
  {
   "cell_type": "markdown",
   "metadata": {},
   "source": [
    "The assignment instructions suggest exploring linear regression; however, linear regression itself is not directly \"explorable.\" Linear regression is a statistical method used to model the relationship between a dependent variable and one or more independent variables by fitting a linear equation to observed data. It estimates the coefficients that minimize the difference between predicted values and actual observations. Instead of directly exploring linear regression, we will apply this method later to train a model on our completed dataset, using the default LinearRegression implementation from scikit-learn."
   ]
  },
  {
   "cell_type": "markdown",
   "metadata": {},
   "source": [
    "### **Section E: Feature Engineering**"
   ]
  },
  {
   "cell_type": "markdown",
   "metadata": {},
   "source": [
    "Two especially useful engineered features that we can create are car_age (current_year - year) and km_per_year (km_driven / car_age). car_age captures the idea that older vehicles typically depreciate more, so it often correlates strongly with selling price. km_per_year shows how heavily the car was driven each year, which goes beyond total mileage by accounting for how long the car has been on the road. Both features use simple arithmetic with existing columns and can help a linear model relate mileage, age, and price."
   ]
  },
  {
   "cell_type": "code",
   "execution_count": 256,
   "metadata": {},
   "outputs": [],
   "source": [
    "def add_aggregated_features(df_in, current_year=2025):\n",
    "  \"\"\"\n",
    "  Adds two new features:\n",
    "  - car_age = current_year - year\n",
    "  - km_per_year = km_driven/car_age\n",
    "  Returns a copy of the dataframe with these new columns.\n",
    "  \"\"\"\n",
    "  df_out = df_in.copy()\n",
    "  # 1) car_age\n",
    "  df_out[\"car_age\"] = current_year - df_out[\"year\"]\n",
    "  # 2) km_per_year, avoiding division by zero\n",
    "  df_out[\"km_per_year\"] = np.where(\n",
    "    df_out[\"car_age\"] == 0,\n",
    "    df_out[\"km_driven\"],\n",
    "    df_out[\"km_driven\"] / df_out[\"car_age\"]\n",
    "  )\n",
    "  return df_out"
   ]
  },
  {
   "cell_type": "markdown",
   "metadata": {},
   "source": [
    "### **Section F: Empirical Study**"
   ]
  },
  {
   "cell_type": "code",
   "execution_count": 257,
   "metadata": {},
   "outputs": [
    {
     "name": "stdout",
     "output_type": "stream",
     "text": [
      "Creating DR1: No outlier removal, no new features.\n",
      "Created DR1\n",
      "==================================================\n",
      "Creating DR2: No outlier removal, but WITH new features.\n",
      "Created DR2\n",
      "==================================================\n",
      "Creating DR3: Outlier removal (LOF + categorical), no new features.\n",
      "Number of outliers detected (bivariate, log+scaled, auto contamination): 58\n",
      "Sample outliers:\n"
     ]
    },
    {
     "data": {
      "text/html": [
       "<div>\n",
       "<style scoped>\n",
       "    .dataframe tbody tr th:only-of-type {\n",
       "        vertical-align: middle;\n",
       "    }\n",
       "\n",
       "    .dataframe tbody tr th {\n",
       "        vertical-align: top;\n",
       "    }\n",
       "\n",
       "    .dataframe thead th {\n",
       "        text-align: right;\n",
       "    }\n",
       "</style>\n",
       "<table border=\"1\" class=\"dataframe\">\n",
       "  <thead>\n",
       "    <tr style=\"text-align: right;\">\n",
       "      <th></th>\n",
       "      <th>year</th>\n",
       "      <th>selling_price</th>\n",
       "      <th>km_driven</th>\n",
       "      <th>fuel_CNG</th>\n",
       "      <th>fuel_Diesel</th>\n",
       "      <th>fuel_Electric</th>\n",
       "      <th>fuel_LPG</th>\n",
       "      <th>fuel_Petrol</th>\n",
       "      <th>seller_type_Dealer</th>\n",
       "      <th>seller_type_Individual</th>\n",
       "      <th>seller_type_Trustmark Dealer</th>\n",
       "      <th>transmission_Automatic</th>\n",
       "      <th>transmission_Manual</th>\n",
       "      <th>owner_First Owner</th>\n",
       "      <th>owner_Fourth &amp; Above Owner</th>\n",
       "      <th>owner_Second Owner</th>\n",
       "      <th>owner_Test Drive Car</th>\n",
       "      <th>owner_Third Owner</th>\n",
       "      <th>log_selling_price</th>\n",
       "      <th>log_km_driven</th>\n",
       "    </tr>\n",
       "  </thead>\n",
       "  <tbody>\n",
       "    <tr>\n",
       "      <th>2118</th>\n",
       "      <td>2011</td>\n",
       "      <td>75000</td>\n",
       "      <td>9528</td>\n",
       "      <td>False</td>\n",
       "      <td>False</td>\n",
       "      <td>False</td>\n",
       "      <td>False</td>\n",
       "      <td>True</td>\n",
       "      <td>True</td>\n",
       "      <td>False</td>\n",
       "      <td>False</td>\n",
       "      <td>False</td>\n",
       "      <td>True</td>\n",
       "      <td>True</td>\n",
       "      <td>False</td>\n",
       "      <td>False</td>\n",
       "      <td>False</td>\n",
       "      <td>False</td>\n",
       "      <td>11.225257</td>\n",
       "      <td>9.162095</td>\n",
       "    </tr>\n",
       "    <tr>\n",
       "      <th>3898</th>\n",
       "      <td>2010</td>\n",
       "      <td>90000</td>\n",
       "      <td>300000</td>\n",
       "      <td>False</td>\n",
       "      <td>False</td>\n",
       "      <td>False</td>\n",
       "      <td>False</td>\n",
       "      <td>True</td>\n",
       "      <td>False</td>\n",
       "      <td>True</td>\n",
       "      <td>False</td>\n",
       "      <td>False</td>\n",
       "      <td>True</td>\n",
       "      <td>False</td>\n",
       "      <td>False</td>\n",
       "      <td>False</td>\n",
       "      <td>False</td>\n",
       "      <td>True</td>\n",
       "      <td>11.407576</td>\n",
       "      <td>12.611541</td>\n",
       "    </tr>\n",
       "    <tr>\n",
       "      <th>3081</th>\n",
       "      <td>2007</td>\n",
       "      <td>100000</td>\n",
       "      <td>170000</td>\n",
       "      <td>False</td>\n",
       "      <td>False</td>\n",
       "      <td>False</td>\n",
       "      <td>False</td>\n",
       "      <td>True</td>\n",
       "      <td>False</td>\n",
       "      <td>True</td>\n",
       "      <td>False</td>\n",
       "      <td>False</td>\n",
       "      <td>True</td>\n",
       "      <td>True</td>\n",
       "      <td>False</td>\n",
       "      <td>False</td>\n",
       "      <td>False</td>\n",
       "      <td>False</td>\n",
       "      <td>11.512935</td>\n",
       "      <td>12.043560</td>\n",
       "    </tr>\n",
       "    <tr>\n",
       "      <th>1646</th>\n",
       "      <td>2019</td>\n",
       "      <td>2600000</td>\n",
       "      <td>9500</td>\n",
       "      <td>False</td>\n",
       "      <td>True</td>\n",
       "      <td>False</td>\n",
       "      <td>False</td>\n",
       "      <td>False</td>\n",
       "      <td>False</td>\n",
       "      <td>True</td>\n",
       "      <td>False</td>\n",
       "      <td>True</td>\n",
       "      <td>False</td>\n",
       "      <td>True</td>\n",
       "      <td>False</td>\n",
       "      <td>False</td>\n",
       "      <td>False</td>\n",
       "      <td>False</td>\n",
       "      <td>14.771022</td>\n",
       "      <td>9.159152</td>\n",
       "    </tr>\n",
       "    <tr>\n",
       "      <th>69</th>\n",
       "      <td>2010</td>\n",
       "      <td>280000</td>\n",
       "      <td>350000</td>\n",
       "      <td>False</td>\n",
       "      <td>True</td>\n",
       "      <td>False</td>\n",
       "      <td>False</td>\n",
       "      <td>False</td>\n",
       "      <td>False</td>\n",
       "      <td>True</td>\n",
       "      <td>False</td>\n",
       "      <td>False</td>\n",
       "      <td>True</td>\n",
       "      <td>False</td>\n",
       "      <td>False</td>\n",
       "      <td>True</td>\n",
       "      <td>False</td>\n",
       "      <td>False</td>\n",
       "      <td>12.542548</td>\n",
       "      <td>12.765691</td>\n",
       "    </tr>\n",
       "  </tbody>\n",
       "</table>\n",
       "</div>"
      ],
      "text/plain": [
       "      year  selling_price  km_driven  fuel_CNG  fuel_Diesel  fuel_Electric  \\\n",
       "2118  2011          75000       9528     False        False          False   \n",
       "3898  2010          90000     300000     False        False          False   \n",
       "3081  2007         100000     170000     False        False          False   \n",
       "1646  2019        2600000       9500     False         True          False   \n",
       "69    2010         280000     350000     False         True          False   \n",
       "\n",
       "      fuel_LPG  fuel_Petrol  seller_type_Dealer  seller_type_Individual  \\\n",
       "2118     False         True                True                   False   \n",
       "3898     False         True               False                    True   \n",
       "3081     False         True               False                    True   \n",
       "1646     False        False               False                    True   \n",
       "69       False        False               False                    True   \n",
       "\n",
       "      seller_type_Trustmark Dealer  transmission_Automatic  \\\n",
       "2118                         False                   False   \n",
       "3898                         False                   False   \n",
       "3081                         False                   False   \n",
       "1646                         False                    True   \n",
       "69                           False                   False   \n",
       "\n",
       "      transmission_Manual  owner_First Owner  owner_Fourth & Above Owner  \\\n",
       "2118                 True               True                       False   \n",
       "3898                 True              False                       False   \n",
       "3081                 True               True                       False   \n",
       "1646                False               True                       False   \n",
       "69                   True              False                       False   \n",
       "\n",
       "      owner_Second Owner  owner_Test Drive Car  owner_Third Owner  \\\n",
       "2118               False                 False              False   \n",
       "3898               False                 False               True   \n",
       "3081               False                 False              False   \n",
       "1646               False                 False              False   \n",
       "69                  True                 False              False   \n",
       "\n",
       "      log_selling_price  log_km_driven  \n",
       "2118          11.225257       9.162095  \n",
       "3898          11.407576      12.611541  \n",
       "3081          11.512935      12.043560  \n",
       "1646          14.771022       9.159152  \n",
       "69            12.542548      12.765691  "
      ]
     },
     "metadata": {},
     "output_type": "display_data"
    },
    {
     "data": {
      "image/png": "[encoded data removed]",
      "text/plain": [
       "<Figure size 800x500 with 1 Axes>"
      ]
     },
     "metadata": {},
     "output_type": "display_data"
    },
    {
     "name": "stdout",
     "output_type": "stream",
     "text": [
      "Removing numerical outliers\n",
      "\n",
      "Shape before removing numerical outliers: (2861, 20)\n",
      "\n",
      "Shape after removing numerical outliers: (2803, 20)\n",
      "\n",
      "Removing one-hot columns for categorical outliers\n",
      "\n",
      "Shape before removing one-hot columns: (2803, 20)\n",
      "\n",
      "Remaining columns: Index(['year', 'selling_price', 'km_driven', 'fuel_CNG', 'fuel_Diesel',\n",
      "       'fuel_LPG', 'fuel_Petrol', 'seller_type_Dealer',\n",
      "       'seller_type_Individual', 'seller_type_Trustmark Dealer',\n",
      "       'transmission_Automatic', 'transmission_Manual', 'owner_First Owner',\n",
      "       'owner_Fourth & Above Owner', 'owner_Second Owner', 'owner_Third Owner',\n",
      "       'log_selling_price', 'log_km_driven'],\n",
      "      dtype='object')\n",
      "\n",
      "Shape after removing one-hot columns: (2803, 18)\n",
      "\n",
      "Created DR3\n",
      "==================================================\n",
      "Creating DR4: Outlier removal + new features.\n",
      "Number of outliers detected (bivariate, log+scaled, auto contamination): 58\n",
      "Sample outliers:\n"
     ]
    },
    {
     "data": {
      "text/html": [
       "<div>\n",
       "<style scoped>\n",
       "    .dataframe tbody tr th:only-of-type {\n",
       "        vertical-align: middle;\n",
       "    }\n",
       "\n",
       "    .dataframe tbody tr th {\n",
       "        vertical-align: top;\n",
       "    }\n",
       "\n",
       "    .dataframe thead th {\n",
       "        text-align: right;\n",
       "    }\n",
       "</style>\n",
       "<table border=\"1\" class=\"dataframe\">\n",
       "  <thead>\n",
       "    <tr style=\"text-align: right;\">\n",
       "      <th></th>\n",
       "      <th>year</th>\n",
       "      <th>selling_price</th>\n",
       "      <th>km_driven</th>\n",
       "      <th>fuel_CNG</th>\n",
       "      <th>fuel_Diesel</th>\n",
       "      <th>fuel_Electric</th>\n",
       "      <th>fuel_LPG</th>\n",
       "      <th>fuel_Petrol</th>\n",
       "      <th>seller_type_Dealer</th>\n",
       "      <th>seller_type_Individual</th>\n",
       "      <th>seller_type_Trustmark Dealer</th>\n",
       "      <th>transmission_Automatic</th>\n",
       "      <th>transmission_Manual</th>\n",
       "      <th>owner_First Owner</th>\n",
       "      <th>owner_Fourth &amp; Above Owner</th>\n",
       "      <th>owner_Second Owner</th>\n",
       "      <th>owner_Test Drive Car</th>\n",
       "      <th>owner_Third Owner</th>\n",
       "      <th>log_selling_price</th>\n",
       "      <th>log_km_driven</th>\n",
       "    </tr>\n",
       "  </thead>\n",
       "  <tbody>\n",
       "    <tr>\n",
       "      <th>2118</th>\n",
       "      <td>2011</td>\n",
       "      <td>75000</td>\n",
       "      <td>9528</td>\n",
       "      <td>False</td>\n",
       "      <td>False</td>\n",
       "      <td>False</td>\n",
       "      <td>False</td>\n",
       "      <td>True</td>\n",
       "      <td>True</td>\n",
       "      <td>False</td>\n",
       "      <td>False</td>\n",
       "      <td>False</td>\n",
       "      <td>True</td>\n",
       "      <td>True</td>\n",
       "      <td>False</td>\n",
       "      <td>False</td>\n",
       "      <td>False</td>\n",
       "      <td>False</td>\n",
       "      <td>11.225257</td>\n",
       "      <td>9.162095</td>\n",
       "    </tr>\n",
       "    <tr>\n",
       "      <th>3898</th>\n",
       "      <td>2010</td>\n",
       "      <td>90000</td>\n",
       "      <td>300000</td>\n",
       "      <td>False</td>\n",
       "      <td>False</td>\n",
       "      <td>False</td>\n",
       "      <td>False</td>\n",
       "      <td>True</td>\n",
       "      <td>False</td>\n",
       "      <td>True</td>\n",
       "      <td>False</td>\n",
       "      <td>False</td>\n",
       "      <td>True</td>\n",
       "      <td>False</td>\n",
       "      <td>False</td>\n",
       "      <td>False</td>\n",
       "      <td>False</td>\n",
       "      <td>True</td>\n",
       "      <td>11.407576</td>\n",
       "      <td>12.611541</td>\n",
       "    </tr>\n",
       "    <tr>\n",
       "      <th>3081</th>\n",
       "      <td>2007</td>\n",
       "      <td>100000</td>\n",
       "      <td>170000</td>\n",
       "      <td>False</td>\n",
       "      <td>False</td>\n",
       "      <td>False</td>\n",
       "      <td>False</td>\n",
       "      <td>True</td>\n",
       "      <td>False</td>\n",
       "      <td>True</td>\n",
       "      <td>False</td>\n",
       "      <td>False</td>\n",
       "      <td>True</td>\n",
       "      <td>True</td>\n",
       "      <td>False</td>\n",
       "      <td>False</td>\n",
       "      <td>False</td>\n",
       "      <td>False</td>\n",
       "      <td>11.512935</td>\n",
       "      <td>12.043560</td>\n",
       "    </tr>\n",
       "    <tr>\n",
       "      <th>1646</th>\n",
       "      <td>2019</td>\n",
       "      <td>2600000</td>\n",
       "      <td>9500</td>\n",
       "      <td>False</td>\n",
       "      <td>True</td>\n",
       "      <td>False</td>\n",
       "      <td>False</td>\n",
       "      <td>False</td>\n",
       "      <td>False</td>\n",
       "      <td>True</td>\n",
       "      <td>False</td>\n",
       "      <td>True</td>\n",
       "      <td>False</td>\n",
       "      <td>True</td>\n",
       "      <td>False</td>\n",
       "      <td>False</td>\n",
       "      <td>False</td>\n",
       "      <td>False</td>\n",
       "      <td>14.771022</td>\n",
       "      <td>9.159152</td>\n",
       "    </tr>\n",
       "    <tr>\n",
       "      <th>69</th>\n",
       "      <td>2010</td>\n",
       "      <td>280000</td>\n",
       "      <td>350000</td>\n",
       "      <td>False</td>\n",
       "      <td>True</td>\n",
       "      <td>False</td>\n",
       "      <td>False</td>\n",
       "      <td>False</td>\n",
       "      <td>False</td>\n",
       "      <td>True</td>\n",
       "      <td>False</td>\n",
       "      <td>False</td>\n",
       "      <td>True</td>\n",
       "      <td>False</td>\n",
       "      <td>False</td>\n",
       "      <td>True</td>\n",
       "      <td>False</td>\n",
       "      <td>False</td>\n",
       "      <td>12.542548</td>\n",
       "      <td>12.765691</td>\n",
       "    </tr>\n",
       "  </tbody>\n",
       "</table>\n",
       "</div>"
      ],
      "text/plain": [
       "      year  selling_price  km_driven  fuel_CNG  fuel_Diesel  fuel_Electric  \\\n",
       "2118  2011          75000       9528     False        False          False   \n",
       "3898  2010          90000     300000     False        False          False   \n",
       "3081  2007         100000     170000     False        False          False   \n",
       "1646  2019        2600000       9500     False         True          False   \n",
       "69    2010         280000     350000     False         True          False   \n",
       "\n",
       "      fuel_LPG  fuel_Petrol  seller_type_Dealer  seller_type_Individual  \\\n",
       "2118     False         True                True                   False   \n",
       "3898     False         True               False                    True   \n",
       "3081     False         True               False                    True   \n",
       "1646     False        False               False                    True   \n",
       "69       False        False               False                    True   \n",
       "\n",
       "      seller_type_Trustmark Dealer  transmission_Automatic  \\\n",
       "2118                         False                   False   \n",
       "3898                         False                   False   \n",
       "3081                         False                   False   \n",
       "1646                         False                    True   \n",
       "69                           False                   False   \n",
       "\n",
       "      transmission_Manual  owner_First Owner  owner_Fourth & Above Owner  \\\n",
       "2118                 True               True                       False   \n",
       "3898                 True              False                       False   \n",
       "3081                 True               True                       False   \n",
       "1646                False               True                       False   \n",
       "69                   True              False                       False   \n",
       "\n",
       "      owner_Second Owner  owner_Test Drive Car  owner_Third Owner  \\\n",
       "2118               False                 False              False   \n",
       "3898               False                 False               True   \n",
       "3081               False                 False              False   \n",
       "1646               False                 False              False   \n",
       "69                  True                 False              False   \n",
       "\n",
       "      log_selling_price  log_km_driven  \n",
       "2118          11.225257       9.162095  \n",
       "3898          11.407576      12.611541  \n",
       "3081          11.512935      12.043560  \n",
       "1646          14.771022       9.159152  \n",
       "69            12.542548      12.765691  "
      ]
     },
     "metadata": {},
     "output_type": "display_data"
    },
    {
     "data": {
      "image/png": "[encoded data removed]",
      "text/plain": [
       "<Figure size 800x500 with 1 Axes>"
      ]
     },
     "metadata": {},
     "output_type": "display_data"
    },
    {
     "name": "stdout",
     "output_type": "stream",
     "text": [
      "Removing numerical outliers\n",
      "\n",
      "Shape before removing numerical outliers: (2861, 20)\n",
      "\n",
      "Shape after removing numerical outliers: (2803, 20)\n",
      "\n",
      "Removing one-hot columns for categorical outliers\n",
      "\n",
      "Shape before removing one-hot columns: (2803, 20)\n",
      "\n",
      "Remaining columns: Index(['year', 'selling_price', 'km_driven', 'fuel_CNG', 'fuel_Diesel',\n",
      "       'fuel_LPG', 'fuel_Petrol', 'seller_type_Dealer',\n",
      "       'seller_type_Individual', 'seller_type_Trustmark Dealer',\n",
      "       'transmission_Automatic', 'transmission_Manual', 'owner_First Owner',\n",
      "       'owner_Fourth & Above Owner', 'owner_Second Owner', 'owner_Third Owner',\n",
      "       'log_selling_price', 'log_km_driven'],\n",
      "      dtype='object')\n",
      "\n",
      "Shape after removing one-hot columns: (2803, 18)\n",
      "\n",
      "Created DR4\n",
      "==================================================\n",
      "Shapes after dropping columns:\n",
      "DR1 shape: (2861, 18)\n",
      "DR2 shape: (2861, 20)\n",
      "DR3 shape: (2803, 16)\n",
      "DR4 shape: (2803, 18)\n",
      "DT shape: (716, 18)\n"
     ]
    }
   ],
   "source": [
    "# Define cols that we're dropping from DR and DT\n",
    "# These will be the columns that are extra from \n",
    "# one-hot encoding\n",
    "cols_to_drop = [\"fuel\", \"seller_type\", \"transmission\", \"owner\"]\n",
    "\n",
    "print(\"Creating DR1: No outlier removal, no new features.\")\n",
    "DR1 = DR.copy()\n",
    "DR1.drop(columns=cols_to_drop, inplace=True, errors=\"ignore\")\n",
    "print(\"Created DR1\")\n",
    "print(\"=\"*50)\n",
    "\n",
    "print(\"Creating DR2: No outlier removal, but WITH new features.\")\n",
    "DR2 = DR.copy()\n",
    "DR2.drop(columns=cols_to_drop, inplace=True, errors=\"ignore\")\n",
    "DR2 = add_aggregated_features(DR2)\n",
    "print(\"Created DR2\")\n",
    "print(\"=\"*50)\n",
    "\n",
    "print(\"Creating DR3: Outlier removal (LOF + categorical), no new features.\")\n",
    "DR3 = DR.copy()\n",
    "DR3.drop(columns=cols_to_drop, inplace=True, errors=\"ignore\")\n",
    "DR3 = remove_outliers_and_categorical(DR3)\n",
    "print(\"Created DR3\")\n",
    "print(\"=\"*50)\n",
    "\n",
    "print(\"Creating DR4: Outlier removal + new features.\")\n",
    "DR4 = DR.copy()\n",
    "DR4.drop(columns=cols_to_drop, inplace=True, errors=\"ignore\")\n",
    "DR4 = remove_outliers_and_categorical(DR4)\n",
    "DR4 = add_aggregated_features(DR4)\n",
    "print(\"Created DR4\")\n",
    "print(\"=\"*50)\n",
    "\n",
    "# Also drop these columns from DT for consistency\n",
    "DT.drop(columns=cols_to_drop, inplace=True, errors=\"ignore\")\n",
    "\n",
    "print(\"Shapes after dropping columns:\")\n",
    "print(\"DR1 shape:\", DR1.shape)\n",
    "print(\"DR2 shape:\", DR2.shape)\n",
    "print(\"DR3 shape:\", DR3.shape)\n",
    "print(\"DR4 shape:\", DR4.shape)\n",
    "print(\"DT shape:\", DT.shape)\n"
   ]
  },
  {
   "cell_type": "markdown",
   "metadata": {},
   "source": [
    "**Running 4-Fold Cross Validation**"
   ]
  },
  {
   "cell_type": "code",
   "execution_count": 258,
   "metadata": {},
   "outputs": [
    {
     "name": "stdout",
     "output_type": "stream",
     "text": [
      "DR1 (Baseline): mean MSE = 135022795888.86, mean R^2 = 0.451\n",
      "DR2 (Features): mean MSE = 135316713736.27, mean R^2 = 0.450\n",
      "DR3 (Outliers Removed): mean MSE = 98319503863.54, mean R^2 = 0.476\n",
      "DR4 (Outliers+Features): mean MSE = 98232120257.44, mean R^2 = 0.476\n"
     ]
    }
   ],
   "source": [
    "def cross_validate_variant(df_variant, cv_splits=4):\n",
    "  \"\"\"\n",
    "  - Splits df_variant into X (features) and y (target),\n",
    "  - Runs 4-fold cross-validation using a pipeline that includes scaling and LinearRegression.\n",
    "  - Returns average MSE and average R^2.\n",
    "  \"\"\"\n",
    "  # Separate features and target\n",
    "  X = df_variant.drop(columns=[\"selling_price\"])\n",
    "  y = df_variant[\"selling_price\"]\n",
    "  \n",
    "  # Create a pipeline with standard scaling and Linear Regression\n",
    "  pipeline = make_pipeline(StandardScaler(), LinearRegression())\n",
    "  \n",
    "  # Cross-validation for negative MSE (but we convert to positive)\n",
    "  mse_scores = cross_val_score(\n",
    "    pipeline,\n",
    "    X, y,\n",
    "    cv=cv_splits,\n",
    "    scoring=\"neg_mean_squared_error\"\n",
    "  )\n",
    "  \n",
    "  # Cross-validation for R²\n",
    "  r2_scores = cross_val_score(\n",
    "    pipeline,\n",
    "    X, y,\n",
    "    cv=cv_splits,\n",
    "    scoring=\"r2\"\n",
    "  )\n",
    "  \n",
    "  # Calculate average metrics\n",
    "  mean_mse = -mse_scores.mean()\n",
    "  mean_r2  = r2_scores.mean()\n",
    "  return mean_mse, mean_r2\n",
    "\n",
    "# Evaluate each variant\n",
    "variants = [\n",
    "  (\"DR1 (Baseline)\", DR1),\n",
    "  (\"DR2 (Features)\", DR2),\n",
    "  (\"DR3 (Outliers Removed)\", DR3),\n",
    "  (\"DR4 (Outliers+Features)\", DR4)\n",
    "]\n",
    "\n",
    "results = []\n",
    "for name, dfv in variants:\n",
    "  mse_val, r2_val = cross_validate_variant(dfv, cv_splits=4)\n",
    "  results.append((name, mse_val, r2_val))\n",
    "  print(f\"{name}: mean MSE = {mse_val:.2f}, mean R^2 = {r2_val:.3f}\")"
   ]
  },
  {
   "cell_type": "markdown",
   "metadata": {},
   "source": [
    "### **Conclusion**"
   ]
  },
  {
   "cell_type": "markdown",
   "metadata": {},
   "source": [
    "### **References**"
   ]
  },
  {
   "cell_type": "markdown",
   "metadata": {},
   "source": [
    "[1] https://www.kaggle.com/datasets/nehalbirla/vehicle-dataset-from-cardekho\n",
    "\n",
    "[2] https://www.algosome.com/articles/dummy-variable-trap-regression.html"
   ]
  }
 ],
 "metadata": {
  "kernelspec": {
   "display_name": ".venv",
   "language": "python",
   "name": "python3"
  },
  "language_info": {
   "codemirror_mode": {
    "name": "ipython",
    "version": 3
   },
   "file_extension": ".py",
   "mimetype": "text/x-python",
   "name": "python",
   "nbconvert_exporter": "python",
   "pygments_lexer": "ipython3",
   "version": "3.12.4"
  }
 },
 "nbformat": 4,
 "nbformat_minor": 2
}
