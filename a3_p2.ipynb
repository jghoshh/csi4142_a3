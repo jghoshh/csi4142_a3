{
 "cells": [
  {
   "cell_type": "markdown",
   "metadata": {},
   "source": [
    "## **CSI4142 - A3: Part 2**"
   ]
  },
  {
   "cell_type": "markdown",
   "metadata": {},
   "source": [
    "**Group:** 9\n",
    "\n",
    "**Members:** \n",
    "- Jay Ghosh (300243766) \n",
    "- Alexander Azizi-Martin (300236257)"
   ]
  },
  {
   "cell_type": "markdown",
   "metadata": {},
   "source": [
    "**Introduction**\n",
    "\n",
    "This notebook presents our solution to Part 2 of Assignment 2. The notebook begins by defining helper functions to simulate various types of missing data (MCAR, MAR, MNAR) and evaluate imputation methods. It then explores the dataset, transforms categorical features into numerical format to facilitate their use in analysis, and concludes with an evaluation of median, KNN, and MICE imputation techniques."
   ]
  },
  {
   "cell_type": "code",
   "execution_count": 1,
   "metadata": {},
   "outputs": [],
   "source": [
    "import kagglehub\n",
    "import numpy as np\n",
    "import pandas as pd\n",
    "import matplotlib.pyplot as plt\n",
    "import seaborn as sns\n",
    "from sklearn.experimental import enable_iterative_imputer\n",
    "from sklearn.impute import IterativeImputer, KNNImputer, SimpleImputer\n",
    "from sklearn.metrics import mean_absolute_error, mean_squared_error\n",
    "from sklearn.preprocessing import MinMaxScaler, OneHotEncoder"
   ]
  },
  {
   "cell_type": "markdown",
   "metadata": {},
   "source": [
    "#### **Dataset description**\n",
    "**Dataset name:** Student Performance & Learning Style [1]\n",
    "\n",
    "**Authors:** Adil Shamim [1]\n",
    "\n",
    "**Purpose:** This dataset examines the relationship between study habits, learning preferences, and external factors in shaping student performance. It provides insights into how study time, participation, sleep, and technology use influence academic success, supporting research in education and predictive modeling for student outcomes.\n",
    "\n",
    "**Shape:** 10,000 rows and 15 columns. [1]"
   ]
  },
  {
   "cell_type": "code",
   "execution_count": 2,
   "metadata": {},
   "outputs": [
    {
     "name": "stdout",
     "output_type": "stream",
     "text": [
      "Warning: Looks like you're using an outdated `kagglehub` version (installed: 0.3.9), please consider upgrading to the latest version (0.3.10).\n"
     ]
    },
    {
     "data": {
      "text/html": [
       "<div>\n",
       "<style scoped>\n",
       "    .dataframe tbody tr th:only-of-type {\n",
       "        vertical-align: middle;\n",
       "    }\n",
       "\n",
       "    .dataframe tbody tr th {\n",
       "        vertical-align: top;\n",
       "    }\n",
       "\n",
       "    .dataframe thead th {\n",
       "        text-align: right;\n",
       "    }\n",
       "</style>\n",
       "<table border=\"1\" class=\"dataframe\">\n",
       "  <thead>\n",
       "    <tr style=\"text-align: right;\">\n",
       "      <th></th>\n",
       "      <th>Student_ID</th>\n",
       "      <th>Age</th>\n",
       "      <th>Gender</th>\n",
       "      <th>Study_Hours_per_Week</th>\n",
       "      <th>Preferred_Learning_Style</th>\n",
       "      <th>Online_Courses_Completed</th>\n",
       "      <th>Participation_in_Discussions</th>\n",
       "      <th>Assignment_Completion_Rate (%)</th>\n",
       "      <th>Exam_Score (%)</th>\n",
       "      <th>Attendance_Rate (%)</th>\n",
       "      <th>Use_of_Educational_Tech</th>\n",
       "      <th>Self_Reported_Stress_Level</th>\n",
       "      <th>Time_Spent_on_Social_Media (hours/week)</th>\n",
       "      <th>Sleep_Hours_per_Night</th>\n",
       "      <th>Final_Grade</th>\n",
       "    </tr>\n",
       "  </thead>\n",
       "  <tbody>\n",
       "    <tr>\n",
       "      <th>0</th>\n",
       "      <td>S00001</td>\n",
       "      <td>18</td>\n",
       "      <td>Female</td>\n",
       "      <td>48</td>\n",
       "      <td>Kinesthetic</td>\n",
       "      <td>14</td>\n",
       "      <td>Yes</td>\n",
       "      <td>100</td>\n",
       "      <td>69</td>\n",
       "      <td>66</td>\n",
       "      <td>Yes</td>\n",
       "      <td>High</td>\n",
       "      <td>9</td>\n",
       "      <td>8</td>\n",
       "      <td>C</td>\n",
       "    </tr>\n",
       "    <tr>\n",
       "      <th>1</th>\n",
       "      <td>S00002</td>\n",
       "      <td>29</td>\n",
       "      <td>Female</td>\n",
       "      <td>30</td>\n",
       "      <td>Reading/Writing</td>\n",
       "      <td>20</td>\n",
       "      <td>No</td>\n",
       "      <td>71</td>\n",
       "      <td>40</td>\n",
       "      <td>57</td>\n",
       "      <td>Yes</td>\n",
       "      <td>Medium</td>\n",
       "      <td>28</td>\n",
       "      <td>8</td>\n",
       "      <td>D</td>\n",
       "    </tr>\n",
       "    <tr>\n",
       "      <th>2</th>\n",
       "      <td>S00003</td>\n",
       "      <td>20</td>\n",
       "      <td>Female</td>\n",
       "      <td>47</td>\n",
       "      <td>Kinesthetic</td>\n",
       "      <td>11</td>\n",
       "      <td>No</td>\n",
       "      <td>60</td>\n",
       "      <td>43</td>\n",
       "      <td>79</td>\n",
       "      <td>Yes</td>\n",
       "      <td>Low</td>\n",
       "      <td>13</td>\n",
       "      <td>7</td>\n",
       "      <td>D</td>\n",
       "    </tr>\n",
       "    <tr>\n",
       "      <th>3</th>\n",
       "      <td>S00004</td>\n",
       "      <td>23</td>\n",
       "      <td>Female</td>\n",
       "      <td>13</td>\n",
       "      <td>Auditory</td>\n",
       "      <td>0</td>\n",
       "      <td>Yes</td>\n",
       "      <td>63</td>\n",
       "      <td>70</td>\n",
       "      <td>60</td>\n",
       "      <td>Yes</td>\n",
       "      <td>Low</td>\n",
       "      <td>24</td>\n",
       "      <td>10</td>\n",
       "      <td>B</td>\n",
       "    </tr>\n",
       "    <tr>\n",
       "      <th>4</th>\n",
       "      <td>S00005</td>\n",
       "      <td>19</td>\n",
       "      <td>Female</td>\n",
       "      <td>24</td>\n",
       "      <td>Auditory</td>\n",
       "      <td>19</td>\n",
       "      <td>Yes</td>\n",
       "      <td>59</td>\n",
       "      <td>63</td>\n",
       "      <td>93</td>\n",
       "      <td>Yes</td>\n",
       "      <td>Medium</td>\n",
       "      <td>26</td>\n",
       "      <td>8</td>\n",
       "      <td>C</td>\n",
       "    </tr>\n",
       "  </tbody>\n",
       "</table>\n",
       "</div>"
      ],
      "text/plain": [
       "  Student_ID  Age  Gender  Study_Hours_per_Week Preferred_Learning_Style  \\\n",
       "0     S00001   18  Female                    48              Kinesthetic   \n",
       "1     S00002   29  Female                    30          Reading/Writing   \n",
       "2     S00003   20  Female                    47              Kinesthetic   \n",
       "3     S00004   23  Female                    13                 Auditory   \n",
       "4     S00005   19  Female                    24                 Auditory   \n",
       "\n",
       "   Online_Courses_Completed Participation_in_Discussions  \\\n",
       "0                        14                          Yes   \n",
       "1                        20                           No   \n",
       "2                        11                           No   \n",
       "3                         0                          Yes   \n",
       "4                        19                          Yes   \n",
       "\n",
       "   Assignment_Completion_Rate (%)  Exam_Score (%)  Attendance_Rate (%)  \\\n",
       "0                             100              69                   66   \n",
       "1                              71              40                   57   \n",
       "2                              60              43                   79   \n",
       "3                              63              70                   60   \n",
       "4                              59              63                   93   \n",
       "\n",
       "  Use_of_Educational_Tech Self_Reported_Stress_Level  \\\n",
       "0                     Yes                       High   \n",
       "1                     Yes                     Medium   \n",
       "2                     Yes                        Low   \n",
       "3                     Yes                        Low   \n",
       "4                     Yes                     Medium   \n",
       "\n",
       "   Time_Spent_on_Social_Media (hours/week)  Sleep_Hours_per_Night Final_Grade  \n",
       "0                                        9                      8           C  \n",
       "1                                       28                      8           D  \n",
       "2                                       13                      7           D  \n",
       "3                                       24                     10           B  \n",
       "4                                       26                      8           C  "
      ]
     },
     "execution_count": 2,
     "metadata": {},
     "output_type": "execute_result"
    }
   ],
   "source": [
    "# Loading dataset\n",
    "df_path = kagglehub.dataset_download(\"adilshamim8/student-performance-and-learning-style\")\n",
    "df = pd.read_csv(f\"{df_path}/student_performance_large_dataset.csv\")\n",
    "df.head()"
   ]
  },
  {
   "cell_type": "code",
   "execution_count": 3,
   "metadata": {},
   "outputs": [
    {
     "data": {
      "text/plain": [
       "(10000, 15)"
      ]
     },
     "execution_count": 3,
     "metadata": {},
     "output_type": "execute_result"
    }
   ],
   "source": [
    "df.shape"
   ]
  },
  {
   "cell_type": "markdown",
   "metadata": {},
   "source": [
    "The dataset contains 5k rows and 15 columns, as is reported by accessing the shape property."
   ]
  },
  {
   "cell_type": "code",
   "execution_count": 4,
   "metadata": {},
   "outputs": [
    {
     "name": "stdout",
     "output_type": "stream",
     "text": [
      "<class 'pandas.core.frame.DataFrame'>\n",
      "RangeIndex: 10000 entries, 0 to 9999\n",
      "Data columns (total 15 columns):\n",
      " #   Column                                   Non-Null Count  Dtype \n",
      "---  ------                                   --------------  ----- \n",
      " 0   Student_ID                               10000 non-null  object\n",
      " 1   Age                                      10000 non-null  int64 \n",
      " 2   Gender                                   10000 non-null  object\n",
      " 3   Study_Hours_per_Week                     10000 non-null  int64 \n",
      " 4   Preferred_Learning_Style                 10000 non-null  object\n",
      " 5   Online_Courses_Completed                 10000 non-null  int64 \n",
      " 6   Participation_in_Discussions             10000 non-null  object\n",
      " 7   Assignment_Completion_Rate (%)           10000 non-null  int64 \n",
      " 8   Exam_Score (%)                           10000 non-null  int64 \n",
      " 9   Attendance_Rate (%)                      10000 non-null  int64 \n",
      " 10  Use_of_Educational_Tech                  10000 non-null  object\n",
      " 11  Self_Reported_Stress_Level               10000 non-null  object\n",
      " 12  Time_Spent_on_Social_Media (hours/week)  10000 non-null  int64 \n",
      " 13  Sleep_Hours_per_Night                    10000 non-null  int64 \n",
      " 14  Final_Grade                              10000 non-null  object\n",
      "dtypes: int64(8), object(7)\n",
      "memory usage: 1.1+ MB\n"
     ]
    }
   ],
   "source": [
    "# Running info() to get a basic understanding of the data and the types\n",
    "df.info()"
   ]
  },
  {
   "cell_type": "markdown",
   "metadata": {},
   "source": [
    "The `.info()` method reveals that all columns are complete, with no missing values across all 10000 records. This is further corroborated by the Kaggle page, which also reports 100% completeness [1]."
   ]
  },
  {
   "cell_type": "markdown",
   "metadata": {},
   "source": [
    "### Feature Details"
   ]
  },
  {
   "cell_type": "markdown",
   "metadata": {},
   "source": [
    "**Student_ID**  \n",
    "- Type: Numerical.  \n",
    "- Description: Unique identifier assigned to each student.  \n",
    "\n",
    "**Age**  \n",
    "- Type: Numerical.  \n",
    "- Description: Student's age at the time of data collection.  \n",
    "- Range: 18-30 years.  \n",
    "\n",
    "**Gender**  \n",
    "- Type: Categorical.  \n",
    "- Description: Student's self-identified gender.  \n",
    "- Categories: Male, Female, Other.  \n",
    "\n",
    "**Study_Hours_per_Week**  \n",
    "- Type: Numerical.  \n",
    "- Description: Total hours a student studies per week.  \n",
    "- Range: 5-50 hours.  \n",
    "- Unit: Hours.  \n",
    "\n",
    "**Preferred_Learning_Style**  \n",
    "- Type: Categorical.  \n",
    "- Description: Primary learning method preferred by the student.  \n",
    "- Categories: Visual, Auditory, Reading/Writing, Kinesthetic.  \n",
    "\n",
    "**Online_Courses_Completed**  \n",
    "- Type: Numerical.  \n",
    "- Description: Number of online courses the student has completed.  \n",
    "- Range: 0-20.  \n",
    "\n",
    "**Participation_in_Discussions**  \n",
    "- Type: Categorical.  \n",
    "- Description: Whether the student actively participates in academic discussions.  \n",
    "- Categories: Yes, No.  \n",
    "\n",
    "**Assignment_Completion_Rate (%)**  \n",
    "- Type: Numerical.  \n",
    "- Description: Percentage of assignments completed by the student.  \n",
    "- Range: 50%-100%.  \n",
    "- Unit: Percentage.  \n",
    "\n",
    "**Exam_Score (%)**  \n",
    "- Type: Numerical.  \n",
    "- Description: Student's final exam score.  \n",
    "- Range: 40%-100%.  \n",
    "- Unit: Percentage.  \n",
    "\n",
    "**Attendance_Rate (%)**  \n",
    "- Type: Numerical.  \n",
    "- Description: Percentage of classes attended by the student.  \n",
    "- Range: 50%-100%.  \n",
    "- Unit: Percentage.  "
   ]
  },
  {
   "cell_type": "markdown",
   "metadata": {},
   "source": [
    "### **Feature Engineering**"
   ]
  },
  {
   "cell_type": "code",
   "execution_count": null,
   "metadata": {},
   "outputs": [],
   "source": [
    "df['Study_Efficiency'] = df['Exam_Score'] / df['Study_Hours_per_Week']"
   ]
  },
  {
   "cell_type": "code",
   "execution_count": null,
   "metadata": {},
   "outputs": [],
   "source": []
  },
  {
   "cell_type": "markdown",
   "metadata": {},
   "source": [
    "### **Conclusion**\n"
   ]
  },
  {
   "cell_type": "markdown",
   "metadata": {},
   "source": [
    "Median imputation is computationally efficient and suitable for MCAR or low-correlation MAR data, where missingness is random and variable relationships are negligible. However, its simplicity becomes a weakness in high-correlation MAR and MNAR scenarios, as it ignores interdependencies between variables, leading to skewed imputations.\n",
    "\n",
    "KNN imputation offers a middle ground, improving upon median in high-correlation MAR and MNAR settings by leveraging local similarity, but at the cost of increased computational load (scaling with dataset size and neighborhood selection). Its sensitivity to noise or sparse data limits its utility in MCAR or low-correlation MAR cases, where median imputation is both faster and comparably accurate.\n",
    "\n",
    "MICE excels in accuracy across all missingness mechanisms, particularly where variable relationships matter (high-correlation MAR, MNAR), thanks to its iterative modeling of interdependencies. However, this comes with high computational complexity, making it less practical for large datasets or time-sensitive applications."
   ]
  },
  {
   "cell_type": "markdown",
   "metadata": {},
   "source": [
    "### **References**\n",
    "\n",
    "[1] https://www.kaggle.com/datasets/adilshamim8/student-performance-and-learning-style"
   ]
  }
 ],
 "metadata": {
  "kernelspec": {
   "display_name": ".venv",
   "language": "python",
   "name": "python3"
  },
  "language_info": {
   "codemirror_mode": {
    "name": "ipython",
    "version": 3
   },
   "file_extension": ".py",
   "mimetype": "text/x-python",
   "name": "python",
   "nbconvert_exporter": "python",
   "pygments_lexer": "ipython3",
   "version": "3.13.2"
  }
 },
 "nbformat": 4,
 "nbformat_minor": 2
}
